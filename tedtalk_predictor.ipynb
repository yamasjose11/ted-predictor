{
  "nbformat": 4,
  "nbformat_minor": 0,
  "metadata": {
    "accelerator": "TPU",
    "colab": {
      "name": "tedtalk_predictor.ipynb",
      "provenance": [],
      "collapsed_sections": [
        "gthxgOD2gBQL",
        "n-Xxo4RSnRUp",
        "6Jzb6JRgnjSn",
        "e8MyCnVV9rED"
      ],
      "machine_shape": "hm"
    },
    "kernelspec": {
      "display_name": "Python 3",
      "language": "python",
      "name": "python3"
    },
    "language_info": {
      "codemirror_mode": {
        "name": "ipython",
        "version": 3
      },
      "file_extension": ".py",
      "mimetype": "text/x-python",
      "name": "python",
      "nbconvert_exporter": "python",
      "pygments_lexer": "ipython3",
      "version": "3.7.9"
    }
  },
  "cells": [
    {
      "cell_type": "code",
      "metadata": {
        "colab": {
          "base_uri": "https://localhost:8080/",
          "height": 145
        },
        "id": "w9jZvPNZh8XS",
        "outputId": "150b773d-4d0d-428f-8bf1-a95df82a6a8e"
      },
      "source": [
        "# Library Imports\n",
        "import pandas as pd\n",
        "import numpy as np\n",
        "import re\n",
        "import matplotlib.pyplot as plt\n",
        "import seaborn as sn\n",
        "from wordcloud import WordCloud\n",
        "import pprint\n",
        "import nltk\n",
        "import warnings\n",
        "from scipy import interp\n",
        "import scipy.stats as stats\n",
        "from collections import Counter\n",
        "\n",
        "from sklearn.ensemble import RandomForestClassifier\n",
        "from sklearn.feature_extraction import text\n",
        "from sklearn.feature_extraction.text import TfidfVectorizer, CountVectorizer\n",
        "from sklearn.feature_selection import SelectKBest, chi2, mutual_info_classif\n",
        "from sklearn.model_selection import train_test_split, KFold, GridSearchCV\n",
        "from sklearn.metrics import confusion_matrix, classification_report, accuracy_score, plot_roc_curve, roc_curve, auc, f1_score, precision_score, recall_score\n",
        "from sklearn.naive_bayes import MultinomialNB, GaussianNB\n",
        "from sklearn.svm import SVC\n",
        "from sklearn.pipeline import Pipeline\n",
        "from sklearn.preprocessing import StandardScaler\n",
        "\n",
        "from nltk.tokenize import word_tokenize\n",
        "from nltk.corpus import stopwords\n",
        "from nltk.stem import PorterStemmer, WordNetLemmatizer, SnowballStemmer\n",
        "from nltk import ngrams\n",
        "\n",
        "nltk.download('stopwords')\n",
        "nltk.download('punkt')\n",
        "nltk.download('wordnet')\n",
        "warnings.filterwarnings('ignore')\n",
        "%autosave 60\n",
        "%matplotlib inline"
      ],
      "execution_count": 1,
      "outputs": [
        {
          "output_type": "stream",
          "text": [
            "[nltk_data] Downloading package stopwords to /root/nltk_data...\n",
            "[nltk_data]   Unzipping corpora/stopwords.zip.\n",
            "[nltk_data] Downloading package punkt to /root/nltk_data...\n",
            "[nltk_data]   Unzipping tokenizers/punkt.zip.\n",
            "[nltk_data] Downloading package wordnet to /root/nltk_data...\n",
            "[nltk_data]   Unzipping corpora/wordnet.zip.\n"
          ],
          "name": "stdout"
        },
        {
          "output_type": "display_data",
          "data": {
            "application/javascript": [
              "IPython.notebook.set_autosave_interval(60000)"
            ]
          },
          "metadata": {
            "tags": []
          }
        },
        {
          "output_type": "stream",
          "text": [
            "Autosaving every 60 seconds\n"
          ],
          "name": "stdout"
        }
      ]
    },
    {
      "cell_type": "code",
      "metadata": {
        "id": "zZKT3wneiCTL",
        "colab": {
          "resources": {
            "http://localhost:8080/nbextensions/google.colab/files.js": {
              "data": "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",
              "ok": true,
              "headers": [
                [
                  "content-type",
                  "application/javascript"
                ]
              ],
              "status": 200,
              "status_text": ""
            }
          },
          "base_uri": "https://localhost:8080/",
          "height": 108
        },
        "outputId": "0c1800c9-60f0-4b32-cb7f-fd26cb1d3b4f"
      },
      "source": [
        "# Importing the Data on Google Colab\n",
        "from google.colab import files\n",
        "\n",
        "uploaded = files.upload()"
      ],
      "execution_count": 2,
      "outputs": [
        {
          "output_type": "display_data",
          "data": {
            "text/html": [
              "\n",
              "     <input type=\"file\" id=\"files-b7f1037a-6fd7-491b-b1c7-ba75463d365c\" name=\"files[]\" multiple disabled\n",
              "        style=\"border:none\" />\n",
              "     <output id=\"result-b7f1037a-6fd7-491b-b1c7-ba75463d365c\">\n",
              "      Upload widget is only available when the cell has been executed in the\n",
              "      current browser session. Please rerun this cell to enable.\n",
              "      </output>\n",
              "      <script src=\"/nbextensions/google.colab/files.js\"></script> "
            ],
            "text/plain": [
              "<IPython.core.display.HTML object>"
            ]
          },
          "metadata": {
            "tags": []
          }
        },
        {
          "output_type": "stream",
          "text": [
            "Saving ted_main.csv to ted_main.csv\n",
            "Saving transcripts.csv to transcripts.csv\n"
          ],
          "name": "stdout"
        }
      ]
    },
    {
      "cell_type": "code",
      "metadata": {
        "id": "37p78dCsh8XU"
      },
      "source": [
        ""
      ],
      "execution_count": 2,
      "outputs": []
    },
    {
      "cell_type": "code",
      "metadata": {
        "id": "wcM3_fZ7h8XU"
      },
      "source": [
        "# Data Visibility\n",
        "pd.set_option('display.max_rows', None)\n",
        "pd.set_option('display.max_columns', None)\n",
        "\n",
        "# Import data\n",
        "df1 = pd.read_csv('ted_main.csv')\n",
        "df2 = pd.read_csv('transcripts.csv')"
      ],
      "execution_count": 3,
      "outputs": []
    },
    {
      "cell_type": "markdown",
      "metadata": {
        "id": "Kk2GcqbUuE1W"
      },
      "source": [
        "## Exploring Data/ EDA/ Data Analysis"
      ]
    },
    {
      "cell_type": "code",
      "metadata": {
        "id": "ltPLQnBUh8XV",
        "scrolled": true,
        "colab": {
          "base_uri": "https://localhost:8080/"
        },
        "outputId": "19b36119-8b88-4fb9-aac5-44068b985f9b"
      },
      "source": [
        "df1.info()"
      ],
      "execution_count": 4,
      "outputs": [
        {
          "output_type": "stream",
          "text": [
            "<class 'pandas.core.frame.DataFrame'>\n",
            "RangeIndex: 2550 entries, 0 to 2549\n",
            "Data columns (total 17 columns):\n",
            " #   Column              Non-Null Count  Dtype \n",
            "---  ------              --------------  ----- \n",
            " 0   comments            2550 non-null   int64 \n",
            " 1   description         2550 non-null   object\n",
            " 2   duration            2550 non-null   int64 \n",
            " 3   event               2550 non-null   object\n",
            " 4   film_date           2550 non-null   int64 \n",
            " 5   languages           2550 non-null   int64 \n",
            " 6   main_speaker        2550 non-null   object\n",
            " 7   name                2550 non-null   object\n",
            " 8   num_speaker         2550 non-null   int64 \n",
            " 9   published_date      2550 non-null   int64 \n",
            " 10  ratings             2550 non-null   object\n",
            " 11  related_talks       2550 non-null   object\n",
            " 12  speaker_occupation  2544 non-null   object\n",
            " 13  tags                2550 non-null   object\n",
            " 14  title               2550 non-null   object\n",
            " 15  url                 2550 non-null   object\n",
            " 16  views               2550 non-null   int64 \n",
            "dtypes: int64(7), object(10)\n",
            "memory usage: 338.8+ KB\n"
          ],
          "name": "stdout"
        }
      ]
    },
    {
      "cell_type": "code",
      "metadata": {
        "id": "xxlGLY4Sh8XV",
        "colab": {
          "base_uri": "https://localhost:8080/",
          "height": 598
        },
        "outputId": "466981e1-48e7-4c13-cac9-245b34ca7f1b"
      },
      "source": [
        "df1.head()"
      ],
      "execution_count": 5,
      "outputs": [
        {
          "output_type": "execute_result",
          "data": {
            "text/html": [
              "<div>\n",
              "<style scoped>\n",
              "    .dataframe tbody tr th:only-of-type {\n",
              "        vertical-align: middle;\n",
              "    }\n",
              "\n",
              "    .dataframe tbody tr th {\n",
              "        vertical-align: top;\n",
              "    }\n",
              "\n",
              "    .dataframe thead th {\n",
              "        text-align: right;\n",
              "    }\n",
              "</style>\n",
              "<table border=\"1\" class=\"dataframe\">\n",
              "  <thead>\n",
              "    <tr style=\"text-align: right;\">\n",
              "      <th></th>\n",
              "      <th>comments</th>\n",
              "      <th>description</th>\n",
              "      <th>duration</th>\n",
              "      <th>event</th>\n",
              "      <th>film_date</th>\n",
              "      <th>languages</th>\n",
              "      <th>main_speaker</th>\n",
              "      <th>name</th>\n",
              "      <th>num_speaker</th>\n",
              "      <th>published_date</th>\n",
              "      <th>ratings</th>\n",
              "      <th>related_talks</th>\n",
              "      <th>speaker_occupation</th>\n",
              "      <th>tags</th>\n",
              "      <th>title</th>\n",
              "      <th>url</th>\n",
              "      <th>views</th>\n",
              "    </tr>\n",
              "  </thead>\n",
              "  <tbody>\n",
              "    <tr>\n",
              "      <th>0</th>\n",
              "      <td>4553</td>\n",
              "      <td>Sir Ken Robinson makes an entertaining and pro...</td>\n",
              "      <td>1164</td>\n",
              "      <td>TED2006</td>\n",
              "      <td>1140825600</td>\n",
              "      <td>60</td>\n",
              "      <td>Ken Robinson</td>\n",
              "      <td>Ken Robinson: Do schools kill creativity?</td>\n",
              "      <td>1</td>\n",
              "      <td>1151367060</td>\n",
              "      <td>[{'id': 7, 'name': 'Funny', 'count': 19645}, {...</td>\n",
              "      <td>[{'id': 865, 'hero': 'https://pe.tedcdn.com/im...</td>\n",
              "      <td>Author/educator</td>\n",
              "      <td>['children', 'creativity', 'culture', 'dance',...</td>\n",
              "      <td>Do schools kill creativity?</td>\n",
              "      <td>https://www.ted.com/talks/ken_robinson_says_sc...</td>\n",
              "      <td>47227110</td>\n",
              "    </tr>\n",
              "    <tr>\n",
              "      <th>1</th>\n",
              "      <td>265</td>\n",
              "      <td>With the same humor and humanity he exuded in ...</td>\n",
              "      <td>977</td>\n",
              "      <td>TED2006</td>\n",
              "      <td>1140825600</td>\n",
              "      <td>43</td>\n",
              "      <td>Al Gore</td>\n",
              "      <td>Al Gore: Averting the climate crisis</td>\n",
              "      <td>1</td>\n",
              "      <td>1151367060</td>\n",
              "      <td>[{'id': 7, 'name': 'Funny', 'count': 544}, {'i...</td>\n",
              "      <td>[{'id': 243, 'hero': 'https://pe.tedcdn.com/im...</td>\n",
              "      <td>Climate advocate</td>\n",
              "      <td>['alternative energy', 'cars', 'climate change...</td>\n",
              "      <td>Averting the climate crisis</td>\n",
              "      <td>https://www.ted.com/talks/al_gore_on_averting_...</td>\n",
              "      <td>3200520</td>\n",
              "    </tr>\n",
              "    <tr>\n",
              "      <th>2</th>\n",
              "      <td>124</td>\n",
              "      <td>New York Times columnist David Pogue takes aim...</td>\n",
              "      <td>1286</td>\n",
              "      <td>TED2006</td>\n",
              "      <td>1140739200</td>\n",
              "      <td>26</td>\n",
              "      <td>David Pogue</td>\n",
              "      <td>David Pogue: Simplicity sells</td>\n",
              "      <td>1</td>\n",
              "      <td>1151367060</td>\n",
              "      <td>[{'id': 7, 'name': 'Funny', 'count': 964}, {'i...</td>\n",
              "      <td>[{'id': 1725, 'hero': 'https://pe.tedcdn.com/i...</td>\n",
              "      <td>Technology columnist</td>\n",
              "      <td>['computers', 'entertainment', 'interface desi...</td>\n",
              "      <td>Simplicity sells</td>\n",
              "      <td>https://www.ted.com/talks/david_pogue_says_sim...</td>\n",
              "      <td>1636292</td>\n",
              "    </tr>\n",
              "    <tr>\n",
              "      <th>3</th>\n",
              "      <td>200</td>\n",
              "      <td>In an emotionally charged talk, MacArthur-winn...</td>\n",
              "      <td>1116</td>\n",
              "      <td>TED2006</td>\n",
              "      <td>1140912000</td>\n",
              "      <td>35</td>\n",
              "      <td>Majora Carter</td>\n",
              "      <td>Majora Carter: Greening the ghetto</td>\n",
              "      <td>1</td>\n",
              "      <td>1151367060</td>\n",
              "      <td>[{'id': 3, 'name': 'Courageous', 'count': 760}...</td>\n",
              "      <td>[{'id': 1041, 'hero': 'https://pe.tedcdn.com/i...</td>\n",
              "      <td>Activist for environmental justice</td>\n",
              "      <td>['MacArthur grant', 'activism', 'business', 'c...</td>\n",
              "      <td>Greening the ghetto</td>\n",
              "      <td>https://www.ted.com/talks/majora_carter_s_tale...</td>\n",
              "      <td>1697550</td>\n",
              "    </tr>\n",
              "    <tr>\n",
              "      <th>4</th>\n",
              "      <td>593</td>\n",
              "      <td>You've never seen data presented like this. Wi...</td>\n",
              "      <td>1190</td>\n",
              "      <td>TED2006</td>\n",
              "      <td>1140566400</td>\n",
              "      <td>48</td>\n",
              "      <td>Hans Rosling</td>\n",
              "      <td>Hans Rosling: The best stats you've ever seen</td>\n",
              "      <td>1</td>\n",
              "      <td>1151440680</td>\n",
              "      <td>[{'id': 9, 'name': 'Ingenious', 'count': 3202}...</td>\n",
              "      <td>[{'id': 2056, 'hero': 'https://pe.tedcdn.com/i...</td>\n",
              "      <td>Global health expert; data visionary</td>\n",
              "      <td>['Africa', 'Asia', 'Google', 'demo', 'economic...</td>\n",
              "      <td>The best stats you've ever seen</td>\n",
              "      <td>https://www.ted.com/talks/hans_rosling_shows_t...</td>\n",
              "      <td>12005869</td>\n",
              "    </tr>\n",
              "  </tbody>\n",
              "</table>\n",
              "</div>"
            ],
            "text/plain": [
              "   comments                                        description  duration  \\\n",
              "0      4553  Sir Ken Robinson makes an entertaining and pro...      1164   \n",
              "1       265  With the same humor and humanity he exuded in ...       977   \n",
              "2       124  New York Times columnist David Pogue takes aim...      1286   \n",
              "3       200  In an emotionally charged talk, MacArthur-winn...      1116   \n",
              "4       593  You've never seen data presented like this. Wi...      1190   \n",
              "\n",
              "     event   film_date  languages   main_speaker  \\\n",
              "0  TED2006  1140825600         60   Ken Robinson   \n",
              "1  TED2006  1140825600         43        Al Gore   \n",
              "2  TED2006  1140739200         26    David Pogue   \n",
              "3  TED2006  1140912000         35  Majora Carter   \n",
              "4  TED2006  1140566400         48   Hans Rosling   \n",
              "\n",
              "                                            name  num_speaker  published_date  \\\n",
              "0      Ken Robinson: Do schools kill creativity?            1      1151367060   \n",
              "1           Al Gore: Averting the climate crisis            1      1151367060   \n",
              "2                  David Pogue: Simplicity sells            1      1151367060   \n",
              "3             Majora Carter: Greening the ghetto            1      1151367060   \n",
              "4  Hans Rosling: The best stats you've ever seen            1      1151440680   \n",
              "\n",
              "                                             ratings  \\\n",
              "0  [{'id': 7, 'name': 'Funny', 'count': 19645}, {...   \n",
              "1  [{'id': 7, 'name': 'Funny', 'count': 544}, {'i...   \n",
              "2  [{'id': 7, 'name': 'Funny', 'count': 964}, {'i...   \n",
              "3  [{'id': 3, 'name': 'Courageous', 'count': 760}...   \n",
              "4  [{'id': 9, 'name': 'Ingenious', 'count': 3202}...   \n",
              "\n",
              "                                       related_talks  \\\n",
              "0  [{'id': 865, 'hero': 'https://pe.tedcdn.com/im...   \n",
              "1  [{'id': 243, 'hero': 'https://pe.tedcdn.com/im...   \n",
              "2  [{'id': 1725, 'hero': 'https://pe.tedcdn.com/i...   \n",
              "3  [{'id': 1041, 'hero': 'https://pe.tedcdn.com/i...   \n",
              "4  [{'id': 2056, 'hero': 'https://pe.tedcdn.com/i...   \n",
              "\n",
              "                     speaker_occupation  \\\n",
              "0                       Author/educator   \n",
              "1                      Climate advocate   \n",
              "2                  Technology columnist   \n",
              "3    Activist for environmental justice   \n",
              "4  Global health expert; data visionary   \n",
              "\n",
              "                                                tags  \\\n",
              "0  ['children', 'creativity', 'culture', 'dance',...   \n",
              "1  ['alternative energy', 'cars', 'climate change...   \n",
              "2  ['computers', 'entertainment', 'interface desi...   \n",
              "3  ['MacArthur grant', 'activism', 'business', 'c...   \n",
              "4  ['Africa', 'Asia', 'Google', 'demo', 'economic...   \n",
              "\n",
              "                             title  \\\n",
              "0      Do schools kill creativity?   \n",
              "1      Averting the climate crisis   \n",
              "2                 Simplicity sells   \n",
              "3              Greening the ghetto   \n",
              "4  The best stats you've ever seen   \n",
              "\n",
              "                                                 url     views  \n",
              "0  https://www.ted.com/talks/ken_robinson_says_sc...  47227110  \n",
              "1  https://www.ted.com/talks/al_gore_on_averting_...   3200520  \n",
              "2  https://www.ted.com/talks/david_pogue_says_sim...   1636292  \n",
              "3  https://www.ted.com/talks/majora_carter_s_tale...   1697550  \n",
              "4  https://www.ted.com/talks/hans_rosling_shows_t...  12005869  "
            ]
          },
          "metadata": {
            "tags": []
          },
          "execution_count": 5
        }
      ]
    },
    {
      "cell_type": "code",
      "metadata": {
        "id": "k6uDKf6mh8XV",
        "colab": {
          "base_uri": "https://localhost:8080/",
          "height": 54
        },
        "outputId": "2064bc52-0a9b-4415-81a2-e7225352ea78"
      },
      "source": [
        "df1.description[0]"
      ],
      "execution_count": 6,
      "outputs": [
        {
          "output_type": "execute_result",
          "data": {
            "application/vnd.google.colaboratory.intrinsic+json": {
              "type": "string"
            },
            "text/plain": [
              "'Sir Ken Robinson makes an entertaining and profoundly moving case for creating an education system that nurtures (rather than undermines) creativity.'"
            ]
          },
          "metadata": {
            "tags": []
          },
          "execution_count": 6
        }
      ]
    },
    {
      "cell_type": "code",
      "metadata": {
        "id": "jbaM1NWAh8XV",
        "colab": {
          "base_uri": "https://localhost:8080/",
          "height": 145
        },
        "outputId": "af4e377c-8833-4c67-e6d2-53e9153490fd"
      },
      "source": [
        "df1.ratings[0]"
      ],
      "execution_count": 7,
      "outputs": [
        {
          "output_type": "execute_result",
          "data": {
            "application/vnd.google.colaboratory.intrinsic+json": {
              "type": "string"
            },
            "text/plain": [
              "\"[{'id': 7, 'name': 'Funny', 'count': 19645}, {'id': 1, 'name': 'Beautiful', 'count': 4573}, {'id': 9, 'name': 'Ingenious', 'count': 6073}, {'id': 3, 'name': 'Courageous', 'count': 3253}, {'id': 11, 'name': 'Longwinded', 'count': 387}, {'id': 2, 'name': 'Confusing', 'count': 242}, {'id': 8, 'name': 'Informative', 'count': 7346}, {'id': 22, 'name': 'Fascinating', 'count': 10581}, {'id': 21, 'name': 'Unconvincing', 'count': 300}, {'id': 24, 'name': 'Persuasive', 'count': 10704}, {'id': 23, 'name': 'Jaw-dropping', 'count': 4439}, {'id': 25, 'name': 'OK', 'count': 1174}, {'id': 26, 'name': 'Obnoxious', 'count': 209}, {'id': 10, 'name': 'Inspiring', 'count': 24924}]\""
            ]
          },
          "metadata": {
            "tags": []
          },
          "execution_count": 7
        }
      ]
    },
    {
      "cell_type": "code",
      "metadata": {
        "id": "snM_P_Yjh8XW",
        "scrolled": true,
        "colab": {
          "base_uri": "https://localhost:8080/",
          "height": 288
        },
        "outputId": "34a1a97c-4ebd-4163-c909-ab0bd7775dc2"
      },
      "source": [
        "df1.describe()"
      ],
      "execution_count": 8,
      "outputs": [
        {
          "output_type": "execute_result",
          "data": {
            "text/html": [
              "<div>\n",
              "<style scoped>\n",
              "    .dataframe tbody tr th:only-of-type {\n",
              "        vertical-align: middle;\n",
              "    }\n",
              "\n",
              "    .dataframe tbody tr th {\n",
              "        vertical-align: top;\n",
              "    }\n",
              "\n",
              "    .dataframe thead th {\n",
              "        text-align: right;\n",
              "    }\n",
              "</style>\n",
              "<table border=\"1\" class=\"dataframe\">\n",
              "  <thead>\n",
              "    <tr style=\"text-align: right;\">\n",
              "      <th></th>\n",
              "      <th>comments</th>\n",
              "      <th>duration</th>\n",
              "      <th>film_date</th>\n",
              "      <th>languages</th>\n",
              "      <th>num_speaker</th>\n",
              "      <th>published_date</th>\n",
              "      <th>views</th>\n",
              "    </tr>\n",
              "  </thead>\n",
              "  <tbody>\n",
              "    <tr>\n",
              "      <th>count</th>\n",
              "      <td>2550.000000</td>\n",
              "      <td>2550.000000</td>\n",
              "      <td>2.550000e+03</td>\n",
              "      <td>2550.000000</td>\n",
              "      <td>2550.000000</td>\n",
              "      <td>2.550000e+03</td>\n",
              "      <td>2.550000e+03</td>\n",
              "    </tr>\n",
              "    <tr>\n",
              "      <th>mean</th>\n",
              "      <td>191.562353</td>\n",
              "      <td>826.510196</td>\n",
              "      <td>1.321928e+09</td>\n",
              "      <td>27.326275</td>\n",
              "      <td>1.028235</td>\n",
              "      <td>1.343525e+09</td>\n",
              "      <td>1.698297e+06</td>\n",
              "    </tr>\n",
              "    <tr>\n",
              "      <th>std</th>\n",
              "      <td>282.315223</td>\n",
              "      <td>374.009138</td>\n",
              "      <td>1.197391e+08</td>\n",
              "      <td>9.563452</td>\n",
              "      <td>0.207705</td>\n",
              "      <td>9.464009e+07</td>\n",
              "      <td>2.498479e+06</td>\n",
              "    </tr>\n",
              "    <tr>\n",
              "      <th>min</th>\n",
              "      <td>2.000000</td>\n",
              "      <td>135.000000</td>\n",
              "      <td>7.464960e+07</td>\n",
              "      <td>0.000000</td>\n",
              "      <td>1.000000</td>\n",
              "      <td>1.151367e+09</td>\n",
              "      <td>5.044300e+04</td>\n",
              "    </tr>\n",
              "    <tr>\n",
              "      <th>25%</th>\n",
              "      <td>63.000000</td>\n",
              "      <td>577.000000</td>\n",
              "      <td>1.257466e+09</td>\n",
              "      <td>23.000000</td>\n",
              "      <td>1.000000</td>\n",
              "      <td>1.268463e+09</td>\n",
              "      <td>7.557928e+05</td>\n",
              "    </tr>\n",
              "    <tr>\n",
              "      <th>50%</th>\n",
              "      <td>118.000000</td>\n",
              "      <td>848.000000</td>\n",
              "      <td>1.333238e+09</td>\n",
              "      <td>28.000000</td>\n",
              "      <td>1.000000</td>\n",
              "      <td>1.340935e+09</td>\n",
              "      <td>1.124524e+06</td>\n",
              "    </tr>\n",
              "    <tr>\n",
              "      <th>75%</th>\n",
              "      <td>221.750000</td>\n",
              "      <td>1046.750000</td>\n",
              "      <td>1.412964e+09</td>\n",
              "      <td>33.000000</td>\n",
              "      <td>1.000000</td>\n",
              "      <td>1.423432e+09</td>\n",
              "      <td>1.700760e+06</td>\n",
              "    </tr>\n",
              "    <tr>\n",
              "      <th>max</th>\n",
              "      <td>6404.000000</td>\n",
              "      <td>5256.000000</td>\n",
              "      <td>1.503792e+09</td>\n",
              "      <td>72.000000</td>\n",
              "      <td>5.000000</td>\n",
              "      <td>1.506092e+09</td>\n",
              "      <td>4.722711e+07</td>\n",
              "    </tr>\n",
              "  </tbody>\n",
              "</table>\n",
              "</div>"
            ],
            "text/plain": [
              "          comments     duration     film_date    languages  num_speaker  \\\n",
              "count  2550.000000  2550.000000  2.550000e+03  2550.000000  2550.000000   \n",
              "mean    191.562353   826.510196  1.321928e+09    27.326275     1.028235   \n",
              "std     282.315223   374.009138  1.197391e+08     9.563452     0.207705   \n",
              "min       2.000000   135.000000  7.464960e+07     0.000000     1.000000   \n",
              "25%      63.000000   577.000000  1.257466e+09    23.000000     1.000000   \n",
              "50%     118.000000   848.000000  1.333238e+09    28.000000     1.000000   \n",
              "75%     221.750000  1046.750000  1.412964e+09    33.000000     1.000000   \n",
              "max    6404.000000  5256.000000  1.503792e+09    72.000000     5.000000   \n",
              "\n",
              "       published_date         views  \n",
              "count    2.550000e+03  2.550000e+03  \n",
              "mean     1.343525e+09  1.698297e+06  \n",
              "std      9.464009e+07  2.498479e+06  \n",
              "min      1.151367e+09  5.044300e+04  \n",
              "25%      1.268463e+09  7.557928e+05  \n",
              "50%      1.340935e+09  1.124524e+06  \n",
              "75%      1.423432e+09  1.700760e+06  \n",
              "max      1.506092e+09  4.722711e+07  "
            ]
          },
          "metadata": {
            "tags": []
          },
          "execution_count": 8
        }
      ]
    },
    {
      "cell_type": "code",
      "metadata": {
        "id": "Q-eTp-pqh8XW",
        "colab": {
          "base_uri": "https://localhost:8080/"
        },
        "outputId": "fc101623-112f-4c16-e624-7dd70c928a22"
      },
      "source": [
        "df2.info()"
      ],
      "execution_count": 9,
      "outputs": [
        {
          "output_type": "stream",
          "text": [
            "<class 'pandas.core.frame.DataFrame'>\n",
            "RangeIndex: 2467 entries, 0 to 2466\n",
            "Data columns (total 2 columns):\n",
            " #   Column      Non-Null Count  Dtype \n",
            "---  ------      --------------  ----- \n",
            " 0   transcript  2467 non-null   object\n",
            " 1   url         2467 non-null   object\n",
            "dtypes: object(2)\n",
            "memory usage: 38.7+ KB\n"
          ],
          "name": "stdout"
        }
      ]
    },
    {
      "cell_type": "code",
      "metadata": {
        "id": "-qFpkd1yGQvj",
        "colab": {
          "base_uri": "https://localhost:8080/"
        },
        "outputId": "c2b81061-ef73-41f0-ee23-167a140b6773"
      },
      "source": [
        "(df1.event.value_counts() > 1).value_counts()"
      ],
      "execution_count": 10,
      "outputs": [
        {
          "output_type": "execute_result",
          "data": {
            "text/plain": [
              "True     192\n",
              "False    163\n",
              "Name: event, dtype: int64"
            ]
          },
          "metadata": {
            "tags": []
          },
          "execution_count": 10
        }
      ]
    },
    {
      "cell_type": "code",
      "metadata": {
        "id": "YwIOGkw9GQ0y"
      },
      "source": [
        "# # Most Freq Events\n",
        "# events = df1.event.value_counts()\n",
        "# events = events[:10]\n",
        "\n",
        "# fig, ax = plt.subplots(figsize=(10, 6))\n",
        "# sn.barplot(events.index, events.values)\n",
        "# plt.xticks(rotation=45)\n",
        "# plt.show()"
      ],
      "execution_count": 11,
      "outputs": []
    },
    {
      "cell_type": "code",
      "metadata": {
        "id": "As06a8SfE4bW",
        "colab": {
          "base_uri": "https://localhost:8080/",
          "height": 299
        },
        "outputId": "d8a456af-7d93-4e11-b619-1ba69c7158bc"
      },
      "source": [
        "# Language Count Hist\n",
        "df1.languages.hist(bins=40)\n",
        "plt.title(\"Language Count Histogram\")"
      ],
      "execution_count": 12,
      "outputs": [
        {
          "output_type": "execute_result",
          "data": {
            "text/plain": [
              "Text(0.5, 1.0, 'Language Count Histogram')"
            ]
          },
          "metadata": {
            "tags": []
          },
          "execution_count": 12
        },
        {
          "output_type": "display_data",
          "data": {
            "image/png": "[encoded data removed]",
            "text/plain": [
              "<Figure size 432x288 with 1 Axes>"
            ]
          },
          "metadata": {
            "tags": [],
            "needs_background": "light"
          }
        }
      ]
    },
    {
      "cell_type": "code",
      "metadata": {
        "id": "3ylTH1LcE4d5",
        "colab": {
          "base_uri": "https://localhost:8080/",
          "height": 299
        },
        "outputId": "78001c98-4fcb-401d-9cae-f3afeb09d0c9"
      },
      "source": [
        "# Duration Count Hist\n",
        "df1.duration.hist(bins=60)\n",
        "plt.xlim([0, 2000])\n",
        "plt.title(\"Duration Count Histogram\")"
      ],
      "execution_count": 13,
      "outputs": [
        {
          "output_type": "execute_result",
          "data": {
            "text/plain": [
              "Text(0.5, 1.0, 'Duration Count Histogram')"
            ]
          },
          "metadata": {
            "tags": []
          },
          "execution_count": 13
        },
        {
          "output_type": "display_data",
          "data": {
            "image/png": "[encoded data removed]",
            "text/plain": [
              "<Figure size 432x288 with 1 Axes>"
            ]
          },
          "metadata": {
            "tags": [],
            "needs_background": "light"
          }
        }
      ]
    },
    {
      "cell_type": "code",
      "metadata": {
        "id": "DU8z3pISE4gT",
        "colab": {
          "base_uri": "https://localhost:8080/",
          "height": 299
        },
        "outputId": "fc9dc588-6eb1-4c65-d00f-39c6bb833de9"
      },
      "source": [
        "# Comment Count Hist\n",
        "df1.comments.hist(bins=75)\n",
        "plt.xlim([0, 1100]) # no comments out of x axis limit\n",
        "plt.title(\"Comment Count Histogram\")"
      ],
      "execution_count": 14,
      "outputs": [
        {
          "output_type": "execute_result",
          "data": {
            "text/plain": [
              "Text(0.5, 1.0, 'Comment Count Histogram')"
            ]
          },
          "metadata": {
            "tags": []
          },
          "execution_count": 14
        },
        {
          "output_type": "display_data",
          "data": {
            "image/png": "[encoded data removed]",
            "text/plain": [
              "<Figure size 432x288 with 1 Axes>"
            ]
          },
          "metadata": {
            "tags": [],
            "needs_background": "light"
          }
        }
      ]
    },
    {
      "cell_type": "code",
      "metadata": {
        "id": "pfmMXCkPL8q_",
        "colab": {
          "base_uri": "https://localhost:8080/",
          "height": 313
        },
        "outputId": "11e950d0-617e-4e15-95be-7126cbe4325d"
      },
      "source": [
        "# Views Count Hist - adjusted\n",
        "# df1.views.hist(bins=500)\n",
        "sn.distplot(df1.views, color='b', bins=60)\n",
        "\n",
        "# only one line may be specified; full height \n",
        "# plt.axvline(x = df1.views.mean(), color = 'b', label = 'axvline - full height')\n",
        "# plt.axvline(x = df1.views.std()/2, color = 'g', label = 'axvline - full height')\n",
        "# plt.axvline(x = 1000000, color = 'r', label = 'axvline - full height')\n",
        "# plt.xlim([-5000, 20000000])\n",
        "plt.xlabel('Views per Million')\n",
        "plt.title(\"Views Count Distribution Histogram\")\n"
      ],
      "execution_count": 15,
      "outputs": [
        {
          "output_type": "execute_result",
          "data": {
            "text/plain": [
              "Text(0.5, 1.0, 'Views Count Distribution Histogram')"
            ]
          },
          "metadata": {
            "tags": []
          },
          "execution_count": 15
        },
        {
          "output_type": "display_data",
          "data": {
            "image/png": "[encoded data removed]",
            "text/plain": [
              "<Figure size 432x288 with 1 Axes>"
            ]
          },
          "metadata": {
            "tags": [],
            "needs_background": "light"
          }
        }
      ]
    },
    {
      "cell_type": "code",
      "metadata": {
        "id": "xdD8rV6uE4iK",
        "colab": {
          "base_uri": "https://localhost:8080/",
          "height": 313
        },
        "outputId": "81045f1d-ed03-4a68-d81a-4a5284c132c0"
      },
      "source": [
        "# Views Count Hist - adjusted\n",
        "# df1.views.hist(bins=1000)\n",
        "sn.distplot(df1.views, color='b', bins=700)\n",
        "\n",
        "# only one line may be specified; full height \n",
        "plt.axvline(x = df1.views.mean(), color = 'b', label = 'Views Mean')\n",
        "plt.axvline(x = df1.views.std()/2, color = 'g', label = 'Views STD/2')\n",
        "plt.axvline(x = df1.views.std(), color = 'k', label = 'Views STD')\n",
        "plt.axvline(x = 1100000, color = 'r', label = 'Target Split')\n",
        "\n",
        "plt.xlim([40000, 3500000])\n",
        "plt.xlabel('Views per Million')\n",
        "plt.title(\"Views Count Distribution Histogram\")\n",
        "plt.legend()"
      ],
      "execution_count": 152,
      "outputs": [
        {
          "output_type": "execute_result",
          "data": {
            "text/plain": [
              "<matplotlib.legend.Legend at 0x7f5dd8c8c128>"
            ]
          },
          "metadata": {
            "tags": []
          },
          "execution_count": 152
        },
        {
          "output_type": "display_data",
          "data": {
            "image/png": "[encoded data removed]",
            "text/plain": [
              "<Figure size 432x288 with 1 Axes>"
            ]
          },
          "metadata": {
            "tags": [],
            "needs_background": "light"
          }
        }
      ]
    },
    {
      "cell_type": "code",
      "metadata": {
        "id": "6VzGnKEFM0fm"
      },
      "source": [
        "# # Views Count Hist - all\n",
        "# df1.views.hist(bins=500)\n",
        "# # only one line may be specified; full height \n",
        "# plt.axvline(x = df1.views.mean(), color = 'b', label = 'axvline - full height')\n",
        "# plt.axvline(x = df1.views.std()/2, color = 'g', label = 'axvline - full height')\n",
        "# plt.axvline(x = df1.views.std(), color = 'g', label = 'axvline - full height')\n",
        "# plt.axvline(x = 1000000, color = 'r', label = 'axvline - full height')\n",
        "# plt.xlim([40000, 7500000])\n",
        " \n"
      ],
      "execution_count": 17,
      "outputs": []
    },
    {
      "cell_type": "code",
      "metadata": {
        "id": "KzCPrj6eU4lJ",
        "colab": {
          "base_uri": "https://localhost:8080/",
          "height": 331
        },
        "outputId": "9d3dec71-e69b-4053-f857-80e3aa544dbe"
      },
      "source": [
        "# Views Count Hist - all\n",
        "# df1.views.hist(bins=500)\n",
        "sn.distplot(df1.views, color='b', bins=250)\n",
        "\n",
        "# only one line may be specified; full height \n",
        "# plt.axvline(x = df1.views.mean(), color = 'b', label = 'Views Mean')\n",
        "# plt.axvline(x = df1.views.std()/2, color = 'g', label = 'Views STD/2')\n",
        "# plt.axvline(x = df1.views.std(), color = 'k', label = 'Views STD')\n",
        "# plt.axvline(x = 1000000, color = 'r', label = 'Arbitrary Number')\n",
        "plt.xlim([40000, 7500000])\n",
        "plt.xlabel('Views per Million')\n",
        "plt.title(\"Views Count Distribution Histogram\")\n",
        "plt.legend()"
      ],
      "execution_count": 18,
      "outputs": [
        {
          "output_type": "stream",
          "text": [
            "No handles with labels found to put in legend.\n"
          ],
          "name": "stderr"
        },
        {
          "output_type": "execute_result",
          "data": {
            "text/plain": [
              "<matplotlib.legend.Legend at 0x7f5f18f5b9b0>"
            ]
          },
          "metadata": {
            "tags": []
          },
          "execution_count": 18
        },
        {
          "output_type": "display_data",
          "data": {
            "image/png": "[encoded data removed]",
            "text/plain": [
              "<Figure size 432x288 with 1 Axes>"
            ]
          },
          "metadata": {
            "tags": [],
            "needs_background": "light"
          }
        }
      ]
    },
    {
      "cell_type": "code",
      "metadata": {
        "id": "QfxiOJ45fHoN",
        "colab": {
          "base_uri": "https://localhost:8080/"
        },
        "outputId": "0a7c4b27-251a-4d70-c61e-2e9bea5d618a"
      },
      "source": [
        "# True Values - Arbitrary Value @1000000\n",
        "print('True Values with Value Split: {}'.format((df1.views < 1000000).sum()))\n",
        "# False Values - Arbitrary Value @1000000\n",
        "print('False Values with Value Split: {}'.format(len(df1.views) - (df1.views < 1000000).sum()))"
      ],
      "execution_count": 23,
      "outputs": [
        {
          "output_type": "stream",
          "text": [
            "True Values with Value Split: 1047\n",
            "False Values with Value Split: 1503\n"
          ],
          "name": "stdout"
        }
      ]
    },
    {
      "cell_type": "code",
      "metadata": {
        "id": "3dRc2oIr2LSJ",
        "colab": {
          "base_uri": "https://localhost:8080/"
        },
        "outputId": "65735431-6b50-49be-e912-7bb75d37400d"
      },
      "source": [
        "# True Values - Arbitrary Value @1100000\n",
        "print('True Values with Value Split: {}'.format((df1.views < 1100000).sum()))\n",
        "# False Values - Arbitrary Value @1100000\n",
        "print('False Values with Value Split: {}'.format(len(df1.views) - (df1.views < 1100000).sum()))"
      ],
      "execution_count": 24,
      "outputs": [
        {
          "output_type": "stream",
          "text": [
            "True Values with Value Split: 1232\n",
            "False Values with Value Split: 1318\n"
          ],
          "name": "stdout"
        }
      ]
    },
    {
      "cell_type": "code",
      "metadata": {
        "id": "DvoI0tsKg290",
        "colab": {
          "base_uri": "https://localhost:8080/"
        },
        "outputId": "74cea8eb-1dc2-461e-a776-feb446899731"
      },
      "source": [
        "# True Values - Half a STD Value\n",
        "print('True Values with Value Split: {}'.format((df1.views < df1.views.std()/2).sum()))\n",
        "# False Values - Half a STD Value\n",
        "print('False Values with Value Split: {}'.format(len(df1.views) - (df1.views < df1.views.std()/2).sum()))"
      ],
      "execution_count": 25,
      "outputs": [
        {
          "output_type": "stream",
          "text": [
            "True Values with Value Split: 1469\n",
            "False Values with Value Split: 1081\n"
          ],
          "name": "stdout"
        }
      ]
    },
    {
      "cell_type": "code",
      "metadata": {
        "id": "tHwlSwRziA1j",
        "colab": {
          "base_uri": "https://localhost:8080/"
        },
        "outputId": "e854e2b3-9b9c-4a73-bf57-c29e63c7f051"
      },
      "source": [
        "# True Values - Mean Value\n",
        "print('True Values with Value Split: {}'.format((df1.views < df1.views.mean()).sum()))\n",
        "# False Values - Mean Value\n",
        "print('False Values with Value Split: {}'.format(len(df1.views) - (df1.views < df1.views.mean()).sum()))"
      ],
      "execution_count": 26,
      "outputs": [
        {
          "output_type": "stream",
          "text": [
            "True Values with Value Split: 1912\n",
            "False Values with Value Split: 638\n"
          ],
          "name": "stdout"
        }
      ]
    },
    {
      "cell_type": "code",
      "metadata": {
        "id": "Eh6KOzHcE4j3",
        "colab": {
          "base_uri": "https://localhost:8080/",
          "height": 283
        },
        "outputId": "31cb007d-3665-4c52-947d-6b93f5d1d36a"
      },
      "source": [
        "# Transcript Words Count Hist\n",
        "df2.transcript.str.len().hist(bins=40)\n",
        "plt.axvline(x = df2.transcript.str.len().std()*2, color = 'b', label = 'axvline - full height')\n",
        "plt.axvline(x = df2.transcript.str.len().mean(), color = 'r', label = 'axvline - full height')\n"
      ],
      "execution_count": 27,
      "outputs": [
        {
          "output_type": "execute_result",
          "data": {
            "text/plain": [
              "<matplotlib.lines.Line2D at 0x7f5f18bf6978>"
            ]
          },
          "metadata": {
            "tags": []
          },
          "execution_count": 27
        },
        {
          "output_type": "display_data",
          "data": {
            "image/png": "[encoded data removed]",
            "text/plain": [
              "<Figure size 432x288 with 1 Axes>"
            ]
          },
          "metadata": {
            "tags": [],
            "needs_background": "light"
          }
        }
      ]
    },
    {
      "cell_type": "code",
      "metadata": {
        "id": "TgW_ek74K_vr",
        "colab": {
          "base_uri": "https://localhost:8080/",
          "height": 308
        },
        "outputId": "307d9faf-8acd-47df-e966-c2cdbb502479"
      },
      "source": [
        "# Transcript Words Count Hist\n",
        "sn.distplot(df2.transcript.str.len(), color='b', bins=40)"
      ],
      "execution_count": 28,
      "outputs": [
        {
          "output_type": "execute_result",
          "data": {
            "text/plain": [
              "<matplotlib.axes._subplots.AxesSubplot at 0x7f5f18b34ef0>"
            ]
          },
          "metadata": {
            "tags": []
          },
          "execution_count": 28
        },
        {
          "output_type": "display_data",
          "data": {
            "image/png": "[encoded data removed]",
            "text/plain": [
              "<Figure size 432x288 with 1 Axes>"
            ]
          },
          "metadata": {
            "tags": [],
            "needs_background": "light"
          }
        }
      ]
    },
    {
      "cell_type": "code",
      "metadata": {
        "id": "eybT0CtnPVDb"
      },
      "source": [
        "# Views to Comment Ratio\n",
        "df1.vtoc = df1.views/df1.comments"
      ],
      "execution_count": 29,
      "outputs": []
    },
    {
      "cell_type": "code",
      "metadata": {
        "id": "IZqPC4UhPVFk",
        "colab": {
          "base_uri": "https://localhost:8080/"
        },
        "outputId": "6a793d64-8f41-47e9-8f13-9f377860f110"
      },
      "source": [
        "df1.vtoc.describe()"
      ],
      "execution_count": 30,
      "outputs": [
        {
          "output_type": "execute_result",
          "data": {
            "text/plain": [
              "count      2550.000000\n",
              "mean      15009.452087\n",
              "std       17770.824133\n",
              "min         450.531587\n",
              "25%        5636.638261\n",
              "50%        9689.936388\n",
              "75%       18276.067552\n",
              "max      323087.000000\n",
              "dtype: float64"
            ]
          },
          "metadata": {
            "tags": []
          },
          "execution_count": 30
        }
      ]
    },
    {
      "cell_type": "code",
      "metadata": {
        "id": "Ch2VmWB8PVIH",
        "colab": {
          "base_uri": "https://localhost:8080/",
          "height": 295
        },
        "outputId": "3edf411d-29b0-4534-db97-6e5c88dffda8"
      },
      "source": [
        "# Views to Comment Ratio Hist - all\n",
        "# df1.vtoc.hist(bins=500)\n",
        "sn.distplot(df1.vtoc, color='b', bins=200)\n",
        "# only one line may be specified; full height \n",
        "plt.axvline(x = df1.vtoc.mean(), color = 'b', label = 'axvline - full height')\n",
        "plt.axvline(x = df1.vtoc.std()/2, color = 'g', label = 'axvline - full height')\n",
        "# plt.axvline(x = 1000000, color = 'r', label = 'axvline - full height')\n",
        "plt.xlim([0, 50000])"
      ],
      "execution_count": 31,
      "outputs": [
        {
          "output_type": "execute_result",
          "data": {
            "text/plain": [
              "(0.0, 50000.0)"
            ]
          },
          "metadata": {
            "tags": []
          },
          "execution_count": 31
        },
        {
          "output_type": "display_data",
          "data": {
            "image/png": "[encoded data removed]",
            "text/plain": [
              "<Figure size 432x288 with 1 Axes>"
            ]
          },
          "metadata": {
            "tags": [],
            "needs_background": "light"
          }
        }
      ]
    },
    {
      "cell_type": "code",
      "metadata": {
        "id": "ag7CM2vhPVLd"
      },
      "source": [
        "# top n rows ordered by multiple columns\n",
        "# df.nlargest(3,['views'])"
      ],
      "execution_count": 32,
      "outputs": []
    },
    {
      "cell_type": "markdown",
      "metadata": {
        "id": "YNqR7XyIceAa"
      },
      "source": [
        "## Merging Data"
      ]
    },
    {
      "cell_type": "code",
      "metadata": {
        "colab": {
          "base_uri": "https://localhost:8080/"
        },
        "id": "dukn6xIWZKjt",
        "outputId": "42c67fb7-18a9-459e-fc30-ad765413a2c1"
      },
      "source": [
        "df1.info()"
      ],
      "execution_count": 33,
      "outputs": [
        {
          "output_type": "stream",
          "text": [
            "<class 'pandas.core.frame.DataFrame'>\n",
            "RangeIndex: 2550 entries, 0 to 2549\n",
            "Data columns (total 17 columns):\n",
            " #   Column              Non-Null Count  Dtype \n",
            "---  ------              --------------  ----- \n",
            " 0   comments            2550 non-null   int64 \n",
            " 1   description         2550 non-null   object\n",
            " 2   duration            2550 non-null   int64 \n",
            " 3   event               2550 non-null   object\n",
            " 4   film_date           2550 non-null   int64 \n",
            " 5   languages           2550 non-null   int64 \n",
            " 6   main_speaker        2550 non-null   object\n",
            " 7   name                2550 non-null   object\n",
            " 8   num_speaker         2550 non-null   int64 \n",
            " 9   published_date      2550 non-null   int64 \n",
            " 10  ratings             2550 non-null   object\n",
            " 11  related_talks       2550 non-null   object\n",
            " 12  speaker_occupation  2544 non-null   object\n",
            " 13  tags                2550 non-null   object\n",
            " 14  title               2550 non-null   object\n",
            " 15  url                 2550 non-null   object\n",
            " 16  views               2550 non-null   int64 \n",
            "dtypes: int64(7), object(10)\n",
            "memory usage: 338.8+ KB\n"
          ],
          "name": "stdout"
        }
      ]
    },
    {
      "cell_type": "code",
      "metadata": {
        "colab": {
          "base_uri": "https://localhost:8080/"
        },
        "id": "w76kbaLCZM1p",
        "outputId": "04f09bbd-4553-41f1-dcec-2085f4510cc7"
      },
      "source": [
        "df2.info()"
      ],
      "execution_count": 34,
      "outputs": [
        {
          "output_type": "stream",
          "text": [
            "<class 'pandas.core.frame.DataFrame'>\n",
            "RangeIndex: 2467 entries, 0 to 2466\n",
            "Data columns (total 2 columns):\n",
            " #   Column      Non-Null Count  Dtype \n",
            "---  ------      --------------  ----- \n",
            " 0   transcript  2467 non-null   object\n",
            " 1   url         2467 non-null   object\n",
            "dtypes: object(2)\n",
            "memory usage: 38.7+ KB\n"
          ],
          "name": "stdout"
        }
      ]
    },
    {
      "cell_type": "code",
      "metadata": {
        "id": "NE2LCJvGe0P2"
      },
      "source": [
        "# print(df1.url[0])\n",
        "# print(df2.url[0])"
      ],
      "execution_count": 155,
      "outputs": []
    },
    {
      "cell_type": "code",
      "metadata": {
        "id": "qq8ZwJvkh8XX"
      },
      "source": [
        "df = df1.merge(df2)"
      ],
      "execution_count": 35,
      "outputs": []
    },
    {
      "cell_type": "code",
      "metadata": {
        "id": "dcIFYDbelNMb"
      },
      "source": [
        "def reset_df(text):\n",
        "  df = df1.merge(df2)\n",
        "  return df"
      ],
      "execution_count": 36,
      "outputs": []
    },
    {
      "cell_type": "code",
      "metadata": {
        "id": "x_NggHq1h8XX",
        "colab": {
          "base_uri": "https://localhost:8080/"
        },
        "outputId": "4b430842-4dfd-4668-f1ff-b1e3c800296f"
      },
      "source": [
        "df.info()"
      ],
      "execution_count": 37,
      "outputs": [
        {
          "output_type": "stream",
          "text": [
            "<class 'pandas.core.frame.DataFrame'>\n",
            "Int64Index: 2467 entries, 0 to 2466\n",
            "Data columns (total 18 columns):\n",
            " #   Column              Non-Null Count  Dtype \n",
            "---  ------              --------------  ----- \n",
            " 0   comments            2467 non-null   int64 \n",
            " 1   description         2467 non-null   object\n",
            " 2   duration            2467 non-null   int64 \n",
            " 3   event               2467 non-null   object\n",
            " 4   film_date           2467 non-null   int64 \n",
            " 5   languages           2467 non-null   int64 \n",
            " 6   main_speaker        2467 non-null   object\n",
            " 7   name                2467 non-null   object\n",
            " 8   num_speaker         2467 non-null   int64 \n",
            " 9   published_date      2467 non-null   int64 \n",
            " 10  ratings             2467 non-null   object\n",
            " 11  related_talks       2467 non-null   object\n",
            " 12  speaker_occupation  2461 non-null   object\n",
            " 13  tags                2467 non-null   object\n",
            " 14  title               2467 non-null   object\n",
            " 15  url                 2467 non-null   object\n",
            " 16  views               2467 non-null   int64 \n",
            " 17  transcript          2467 non-null   object\n",
            "dtypes: int64(7), object(11)\n",
            "memory usage: 366.2+ KB\n"
          ],
          "name": "stdout"
        }
      ]
    },
    {
      "cell_type": "code",
      "metadata": {
        "id": "bFTciGkelgYE"
      },
      "source": [
        "# df.views.describe()"
      ],
      "execution_count": 38,
      "outputs": []
    },
    {
      "cell_type": "code",
      "metadata": {
        "id": "ckNzWXG6h8XX"
      },
      "source": [
        "# Two Areas worth exploring\n",
        "df.trans_len = df.transcript.str.len()\n",
        "df.vtoc = df.views/df.comments"
      ],
      "execution_count": 39,
      "outputs": []
    },
    {
      "cell_type": "code",
      "metadata": {
        "id": "1_zVuyOIB4Jx",
        "colab": {
          "base_uri": "https://localhost:8080/"
        },
        "outputId": "9c173f8d-35ae-4b4e-e394-ba6c3c61d268"
      },
      "source": [
        "df.columns"
      ],
      "execution_count": 40,
      "outputs": [
        {
          "output_type": "execute_result",
          "data": {
            "text/plain": [
              "Index(['comments', 'description', 'duration', 'event', 'film_date',\n",
              "       'languages', 'main_speaker', 'name', 'num_speaker', 'published_date',\n",
              "       'ratings', 'related_talks', 'speaker_occupation', 'tags', 'title',\n",
              "       'url', 'views', 'transcript'],\n",
              "      dtype='object')"
            ]
          },
          "metadata": {
            "tags": []
          },
          "execution_count": 40
        }
      ]
    },
    {
      "cell_type": "markdown",
      "metadata": {
        "id": "62f_Pax4B5C2"
      },
      "source": [
        "## Adjusting Targets"
      ]
    },
    {
      "cell_type": "code",
      "metadata": {
        "id": "CpTfC2YlB4Mp",
        "colab": {
          "base_uri": "https://localhost:8080/"
        },
        "outputId": "5415db87-bbe0-48cf-d064-47773c021651"
      },
      "source": [
        "# Target Median\n",
        "target_thresh1 = df1.views.std()/2\n",
        "target_thresh2 = 1100000\n",
        "# print(target_thresh1, ' ', target_thresh2)"
      ],
      "execution_count": 41,
      "outputs": [
        {
          "output_type": "stream",
          "text": [
            "1249239.6860926037   1100000\n"
          ],
          "name": "stdout"
        }
      ]
    },
    {
      "cell_type": "code",
      "metadata": {
        "id": "p4TcoHLDB4QC"
      },
      "source": [
        "# Target for Non-favorable V. Favorable at threshold cut off. 0=not-fav, 1=fav\n",
        "df['target'] = np.where(df.views < target_thresh2, 0, 1)"
      ],
      "execution_count": 42,
      "outputs": []
    },
    {
      "cell_type": "code",
      "metadata": {
        "id": "U6IDOzA840lL"
      },
      "source": [
        "# for i in range(20):\n",
        "#   print(df.views[i])\n",
        "#   print(df.target[i])"
      ],
      "execution_count": 43,
      "outputs": []
    },
    {
      "cell_type": "code",
      "metadata": {
        "id": "QTIKoy_tu7kv",
        "colab": {
          "base_uri": "https://localhost:8080/"
        },
        "outputId": "5e552686-4b80-4c40-c233-23c73add9612"
      },
      "source": [
        "df.target.value_counts()"
      ],
      "execution_count": 44,
      "outputs": [
        {
          "output_type": "execute_result",
          "data": {
            "text/plain": [
              "1    1315\n",
              "0    1152\n",
              "Name: target, dtype: int64"
            ]
          },
          "metadata": {
            "tags": []
          },
          "execution_count": 44
        }
      ]
    },
    {
      "cell_type": "code",
      "metadata": {
        "id": "skyQlGsFEsne",
        "colab": {
          "base_uri": "https://localhost:8080/"
        },
        "outputId": "749dc8e5-e162-41df-964b-e5842d43e353"
      },
      "source": [
        "tar = np.where(df.views < 1100000, 0, 1)\n",
        "np.bincount(tar)"
      ],
      "execution_count": 45,
      "outputs": [
        {
          "output_type": "execute_result",
          "data": {
            "text/plain": [
              "array([1152, 1315])"
            ]
          },
          "metadata": {
            "tags": []
          },
          "execution_count": 45
        }
      ]
    },
    {
      "cell_type": "code",
      "metadata": {
        "id": "kS75czpFu7na",
        "colab": {
          "base_uri": "https://localhost:8080/",
          "height": 313
        },
        "outputId": "26b6682d-59d5-4c09-8a52-b7f5862b651a"
      },
      "source": [
        "fig, ax = plt.subplots()\n",
        "\n",
        "sn.countplot(x=df.target) # 0=not-fav, 1=fav\n",
        "# sn.set_theme(style='darkgrid')\n",
        "ax.set_title(\"Target and Count Plot\")\n",
        "ax.set_xlabel(\"Favorable Target\")\n",
        "ax.set_ylabel(\"Target Count\")"
      ],
      "execution_count": 46,
      "outputs": [
        {
          "output_type": "execute_result",
          "data": {
            "text/plain": [
              "Text(0, 0.5, 'Target Count')"
            ]
          },
          "metadata": {
            "tags": []
          },
          "execution_count": 46
        },
        {
          "output_type": "display_data",
          "data": {
            "image/png": "[encoded data removed]",
            "text/plain": [
              "<Figure size 432x288 with 1 Axes>"
            ]
          },
          "metadata": {
            "tags": [],
            "needs_background": "light"
          }
        }
      ]
    },
    {
      "cell_type": "code",
      "metadata": {
        "id": "iex72fIgB4V8"
      },
      "source": [
        ""
      ],
      "execution_count": 46,
      "outputs": []
    },
    {
      "cell_type": "markdown",
      "metadata": {
        "id": "Cww-amlLvNeX"
      },
      "source": [
        "## Text Preprocessing \n",
        "* Cleaning Text**"
      ]
    },
    {
      "cell_type": "code",
      "metadata": {
        "id": "Gz5mmj0Uh8XX"
      },
      "source": [
        "### Text Pre-processing ###\n",
        "\n",
        "\n",
        "# Cleaning Text\n",
        "def clean_text(text):\n",
        "    # Removing Unnecessary Text\n",
        "    text = str(text)\n",
        "    text = re.sub(r'\\([^)]*\\)', ' ', text) # removing audience actions**\n",
        "    text = re.sub(r'\\w+:\\/{2}[\\d\\w-]+(\\.[\\d\\w-]+)*(?:(?:\\/[^\\s/]*))*', ' ', text) # url-less links\n",
        "    text = re.sub(r'^https?:\\/\\/.*[\\r\\n]*', ' ', text, flags=re.MULTILINE) # links/urls \n",
        "    text = re.sub(r'#\\S+', '', text)    # hastags  \n",
        "    text = re.sub(r'[^\\w\\s]','', text)  # punctuation\n",
        "    text = re.sub('[0-9]+', '', text)  # times\n",
        "    text = re.sub('\\s{2,}', ' ', text)  # over use of spaces\n",
        "    text = text.lower()\n",
        "\n",
        "    return text\n",
        "\n",
        "# # Removing Stop Words\n",
        "# extras = [] \n",
        "# # stop = text.ENGLISH_STOP_WORDS.union(extras)\n",
        "# stop_words = set(stopwords.words('english'))\n",
        "# def remove_sw(text):\n",
        "#   tokens = word_tokenize(text)\n",
        "#   # text = [i for i in tokens if i not in stop]\n",
        "#   # text = (lambda x: ' '.join([item for item in x.split() if item not in stop]))\n",
        "#   text = text.apply(lambda x: ' '.join(i for i in tokens if i not in stop_words))\n",
        "#   return text\n"
      ],
      "execution_count": 47,
      "outputs": []
    },
    {
      "cell_type": "code",
      "metadata": {
        "id": "ynPfMPv_h8XY"
      },
      "source": [
        "# Applying text processing\n",
        "df.transcript = df.transcript.apply(clean_text)"
      ],
      "execution_count": 48,
      "outputs": []
    },
    {
      "cell_type": "code",
      "metadata": {
        "id": "J9yJui_McPjC",
        "colab": {
          "base_uri": "https://localhost:8080/"
        },
        "outputId": "7b64799f-257f-404b-9229-e1f5310acdbc"
      },
      "source": [
        "pd.set_option('display.width', None)\n",
        "pd.set_option('display.max_colwidth', None)\n",
        "\n",
        "print(df2.transcript.head(1))\n",
        "print(df.transcript.head(1))"
      ],
      "execution_count": 49,
      "outputs": [
        {
          "output_type": "stream",
          "text": [
            "0    Good morning. How are you?(Laughter)It's been great, hasn't it? I've been blown away by the whole thing. In fact, I'm leaving.(Laughter)There have been three themes running through the conference which are relevant to what I want to talk about. One is the extraordinary evidence of human creativity in all of the presentations that we've had and in all of the people here. Just the variety of it and the range of it. The second is that it's put us in a place where we have no idea what's going to happen, in terms of the future. No idea how this may play out.I have an interest in education. Actually, what I find is everybody has an interest in education. Don't you? I find this very interesting. If you're at a dinner party, and you say you work in education — Actually, you're not often at dinner parties, frankly.(Laughter)If you work in education, you're not asked.(Laughter)And you're never asked back, curiously. That's strange to me. But if you are, and you say to somebody, you know, they say, \"What do you do?\" and you say you work in education, you can see the blood run from their face. They're like, \"Oh my God,\" you know, \"Why me?\"(Laughter)\"My one night out all week.\"(Laughter)But if you ask about their education, they pin you to the wall. Because it's one of those things that goes deep with people, am I right? Like religion, and money and other things. So I have a big interest in education, and I think we all do. We have a huge vested interest in it, partly because it's education that's meant to take us into this future that we can't grasp. If you think of it, children starting school this year will be retiring in 2065. Nobody has a clue, despite all the expertise that's been on parade for the past four days, what the world will look like in five years' time. And yet we're meant to be educating them for it. So the unpredictability, I think, is extraordinary.And the third part of this is that we've all agreed, nonetheless, on the really extraordinary capacities that children have — their capacities for innovation. I mean, Sirena last night was a marvel, wasn't she? Just seeing what she could do. And she's exceptional, but I think she's not, so to speak, exceptional in the whole of childhood. What you have there is a person of extraordinary dedication who found a talent. And my contention is, all kids have tremendous talents. And we squander them, pretty ruthlessly.So I want to talk about education and I want to talk about creativity. My contention is that creativity now is as important in education as literacy, and we should treat it with the same status.(Applause) Thank you.(Applause)That was it, by the way. Thank you very much.(Laughter)So, 15 minutes left.(Laughter)Well, I was born... no.(Laughter)I heard a great story recently — I love telling it — of a little girl who was in a drawing lesson. She was six, and she was at the back, drawing, and the teacher said this girl hardly ever paid attention, and in this drawing lesson, she did. The teacher was fascinated. She went over to her, and she said, \"What are you drawing?\" And the girl said, \"I'm drawing a picture of God.\" And the teacher said, \"But nobody knows what God looks like.\" And the girl said, \"They will, in a minute.\"(Laughter)When my son was four in England — Actually, he was four everywhere, to be honest.(Laughter)If we're being strict about it, wherever he went, he was four that year. He was in the Nativity play. Do you remember the story?(Laughter)No, it was big, it was a big story. Mel Gibson did the sequel, you may have seen it.(Laughter)\"Nativity II.\" But James got the part of Joseph, which we were thrilled about. We considered this to be one of the lead parts. We had the place crammed full of agents in T-shirts: \"James Robinson IS Joseph!\" (Laughter) He didn't have to speak, but you know the bit where the three kings come in? They come in bearing gifts, gold, frankincense and myrrh. This really happened. We were sitting there and I think they just went out of sequence, because we talked to the little boy afterward and we said, \"You OK with that?\" And he said, \"Yeah, why? Was that wrong?\" They just switched. The three boys came in, four-year-olds with tea towels on their heads, and they put these boxes down, and the first boy said, \"I bring you gold.\" And the second boy said, \"I bring you myrrh.\" And the third boy said, \"Frank sent this.\"(Laughter)What these things have in common is that kids will take a chance. If they don't know, they'll have a go. Am I right? They're not frightened of being wrong. I don't mean to say that being wrong is the same thing as being creative. What we do know is, if you're not prepared to be wrong, you'll never come up with anything original — if you're not prepared to be wrong. And by the time they get to be adults, most kids have lost that capacity. They have become frightened of being wrong. And we run our companies like this. We stigmatize mistakes. And we're now running national education systems where mistakes are the worst thing you can make. And the result is that we are educating people out of their creative capacities.Picasso once said this, he said that all children are born artists. The problem is to remain an artist as we grow up. I believe this passionately, that we don't grow into creativity, we grow out of it. Or rather, we get educated out of it. So why is this?I lived in Stratford-on-Avon until about five years ago. In fact, we moved from Stratford to Los Angeles. So you can imagine what a seamless transition that was.(Laughter)Actually, we lived in a place called Snitterfield, just outside Stratford, which is where Shakespeare's father was born. Are you struck by a new thought? I was. You don't think of Shakespeare having a father, do you? Do you? Because you don't think of Shakespeare being a child, do you? Shakespeare being seven? I never thought of it. I mean, he was seven at some point. He was in somebody's English class, wasn't he?(Laughter)How annoying would that be?(Laughter)\"Must try harder.\"(Laughter)Being sent to bed by his dad, you know, to Shakespeare, \"Go to bed, now! And put the pencil down.\"(Laughter)\"And stop speaking like that.\"(Laughter)\"It's confusing everybody.\"(Laughter)Anyway, we moved from Stratford to Los Angeles, and I just want to say a word about the transition. My son didn't want to come. I've got two kids; he's 21 now, my daughter's 16. He didn't want to come to Los Angeles. He loved it, but he had a girlfriend in England. This was the love of his life, Sarah. He'd known her for a month.(Laughter)Mind you, they'd had their fourth anniversary, because it's a long time when you're 16. He was really upset on the plane, he said, \"I'll never find another girl like Sarah.\" And we were rather pleased about that, frankly —(Laughter)Because she was the main reason we were leaving the country.(Laughter)But something strikes you when you move to America and travel around the world: Every education system on Earth has the same hierarchy of subjects. Every one. Doesn't matter where you go. You'd think it would be otherwise, but it isn't. At the top are mathematics and languages, then the humanities, and at the bottom are the arts. Everywhere on Earth. And in pretty much every system too, there's a hierarchy within the arts. Art and music are normally given a higher status in schools than drama and dance. There isn't an education system on the planet that teaches dance everyday to children the way we teach them mathematics. Why? Why not? I think this is rather important. I think math is very important, but so is dance. Children dance all the time if they're allowed to, we all do. We all have bodies, don't we? Did I miss a meeting?(Laughter)Truthfully, what happens is, as children grow up, we start to educate them progressively from the waist up. And then we focus on their heads. And slightly to one side.If you were to visit education, as an alien, and say \"What's it for, public education?\" I think you'd have to conclude, if you look at the output, who really succeeds by this, who does everything that they should, who gets all the brownie points, who are the winners — I think you'd have to conclude the whole purpose of public education throughout the world is to produce university professors. Isn't it? They're the people who come out the top. And I used to be one, so there.(Laughter)And I like university professors, but you know, we shouldn't hold them up as the high-water mark of all human achievement. They're just a form of life, another form of life. But they're rather curious, and I say this out of affection for them. There's something curious about professors in my experience — not all of them, but typically, they live in their heads. They live up there, and slightly to one side. They're disembodied, you know, in a kind of literal way. They look upon their body as a form of transport for their heads.(Laughter)Don't they? It's a way of getting their head to meetings.(Laughter)If you want real evidence of out-of-body experiences, get yourself along to a residential conference of senior academics, and pop into the discotheque on the final night.(Laughter)And there, you will see it. Grown men and women writhing uncontrollably, off the beat.(Laughter)Waiting until it ends so they can go home and write a paper about it.(Laughter)Our education system is predicated on the idea of academic ability. And there's a reason. Around the world, there were no public systems of education, really, before the 19th century. They all came into being to meet the needs of industrialism. So the hierarchy is rooted on two ideas.Number one, that the most useful subjects for work are at the top. So you were probably steered benignly away from things at school when you were a kid, things you liked, on the grounds that you would never get a job doing that. Is that right? Don't do music, you're not going to be a musician; don't do art, you won't be an artist. Benign advice — now, profoundly mistaken. The whole world is engulfed in a revolution.And the second is academic ability, which has really come to dominate our view of intelligence, because the universities designed the system in their image. If you think of it, the whole system of public education around the world is a protracted process of university entrance. And the consequence is that many highly-talented, brilliant, creative people think they're not, because the thing they were good at at school wasn't valued, or was actually stigmatized. And I think we can't afford to go on that way.In the next 30 years, according to UNESCO, more people worldwide will be graduating through education than since the beginning of history. More people, and it's the combination of all the things we've talked about — technology and its transformation effect on work, and demography and the huge explosion in population.Suddenly, degrees aren't worth anything. Isn't that true? When I was a student, if you had a degree, you had a job. If you didn't have a job, it's because you didn't want one. And I didn't want one, frankly. (Laughter) But now kids with degrees are often heading home to carry on playing video games, because you need an MA where the previous job required a BA, and now you need a PhD for the other. It's a process of academic inflation. And it indicates the whole structure of education is shifting beneath our feet. We need to radically rethink our view of intelligence.We know three things about intelligence. One, it's diverse. We think about the world in all the ways that we experience it. We think visually, we think in sound, we think kinesthetically. We think in abstract terms, we think in movement. Secondly, intelligence is dynamic. If you look at the interactions of a human brain, as we heard yesterday from a number of presentations, intelligence is wonderfully interactive. The brain isn't divided into compartments. In fact, creativity — which I define as the process of having original ideas that have value — more often than not comes about through the interaction of different disciplinary ways of seeing things.By the way, there's a shaft of nerves that joins the two halves of the brain called the corpus callosum. It's thicker in women. Following off from Helen yesterday, this is probably why women are better at multi-tasking. Because you are, aren't you? There's a raft of research, but I know it from my personal life. If my wife is cooking a meal at home — which is not often, thankfully.(Laughter)No, she's good at some things, but if she's cooking, she's dealing with people on the phone, she's talking to the kids, she's painting the ceiling, she's doing open-heart surgery over here. If I'm cooking, the door is shut, the kids are out, the phone's on the hook, if she comes in I get annoyed. I say, \"Terry, please, I'm trying to fry an egg in here.\"(Laughter)\"Give me a break.\"(Laughter)Actually, do you know that old philosophical thing, if a tree falls in a forest and nobody hears it, did it happen? Remember that old chestnut? I saw a great t-shirt recently, which said, \"If a man speaks his mind in a forest, and no woman hears him, is he still wrong?\"(Laughter)And the third thing about intelligence is, it's distinct. I'm doing a new book at the moment called \"Epiphany,\" which is based on a series of interviews with people about how they discovered their talent. I'm fascinated by how people got to be there. It's really prompted by a conversation I had with a wonderful woman who maybe most people have never heard of, Gillian Lynne. Have you heard of her? Some have. She's a choreographer, and everybody knows her work. She did \"Cats\" and \"Phantom of the Opera.\" She's wonderful. I used to be on the board of The Royal Ballet, as you can see. Anyway, Gillian and I had lunch one day and I said, \"How did you get to be a dancer?\" It was interesting. When she was at school, she was really hopeless. And the school, in the '30s, wrote to her parents and said, \"We think Gillian has a learning disorder.\" She couldn't concentrate; she was fidgeting. I think now they'd say she had ADHD. Wouldn't you? But this was the 1930s, and ADHD hadn't been invented at this point. It wasn't an available condition.(Laughter)People weren't aware they could have that.(Laughter)Anyway, she went to see this specialist. So, this oak-paneled room, and she was there with her mother, and she was led and sat on this chair at the end, and she sat on her hands for 20 minutes while this man talked to her mother about the problems Gillian was having at school. Because she was disturbing people; her homework was always late; and so on, little kid of eight. In the end, the doctor went and sat next to Gillian, and said, \"I've listened to all these things your mother's told me, I need to speak to her privately. Wait here. We'll be back; we won't be very long,\" and they went and left her.But as they went out of the room, he turned on the radio that was sitting on his desk. And when they got out, he said to her mother, \"Just stand and watch her.\" And the minute they left the room, she was on her feet, moving to the music. And they watched for a few minutes and he turned to her mother and said, \"Mrs. Lynne, Gillian isn't sick; she's a dancer. Take her to a dance school.\"I said, \"What happened?\" She said, \"She did. I can't tell you how wonderful it was. We walked in this room and it was full of people like me. People who couldn't sit still. People who had to move to think.\" Who had to move to think. They did ballet, they did tap, jazz; they did modern; they did contemporary. She was eventually auditioned for the Royal Ballet School; she became a soloist; she had a wonderful career at the Royal Ballet. She eventually graduated from the Royal Ballet School, founded the Gillian Lynne Dance Company, met Andrew Lloyd Webber. She's been responsible for some of the most successful musical theater productions in history, she's given pleasure to millions, and she's a multi-millionaire. Somebody else might have put her on medication and told her to calm down.(Applause)What I think it comes to is this: Al Gore spoke the other night about ecology and the revolution that was triggered by Rachel Carson. I believe our only hope for the future is to adopt a new conception of human ecology, one in which we start to reconstitute our conception of the richness of human capacity. Our education system has mined our minds in the way that we strip-mine the earth: for a particular commodity. And for the future, it won't serve us. We have to rethink the fundamental principles on which we're educating our children.There was a wonderful quote by Jonas Salk, who said, \"If all the insects were to disappear from the Earth, within 50 years all life on Earth would end. If all human beings disappeared from the Earth, within 50 years all forms of life would flourish.\" And he's right.What TED celebrates is the gift of the human imagination. We have to be careful now that we use this gift wisely and that we avert some of the scenarios that we've talked about. And the only way we'll do it is by seeing our creative capacities for the richness they are and seeing our children for the hope that they are. And our task is to educate their whole being, so they can face this future. By the way — we may not see this future, but they will. And our job is to help them make something of it.Thank you very much.(Applause)\n",
            "Name: transcript, dtype: object\n",
            "0    good morning how are you its been great hasnt it ive been blown away by the whole thing in fact im leaving there have been three themes running through the conference which are relevant to what i want to talk about one is the extraordinary evidence of human creativity in all of the presentations that weve had and in all of the people here just the variety of it and the range of it the second is that its put us in a place where we have no idea whats going to happen in terms of the future no idea how this may play outi have an interest in education actually what i find is everybody has an interest in education dont you i find this very interesting if youre at a dinner party and you say you work in education actually youre not often at dinner parties frankly if you work in education youre not asked and youre never asked back curiously thats strange to me but if you are and you say to somebody you know they say what do you do and you say you work in education you can see the blood run from their face theyre like oh my god you know why me my one night out all week but if you ask about their education they pin you to the wall because its one of those things that goes deep with people am i right like religion and money and other things so i have a big interest in education and i think we all do we have a huge vested interest in it partly because its education thats meant to take us into this future that we cant grasp if you think of it children starting school this year will be retiring in nobody has a clue despite all the expertise thats been on parade for the past four days what the world will look like in five years time and yet were meant to be educating them for it so the unpredictability i think is extraordinaryand the third part of this is that weve all agreed nonetheless on the really extraordinary capacities that children have their capacities for innovation i mean sirena last night was a marvel wasnt she just seeing what she could do and shes exceptional but i think shes not so to speak exceptional in the whole of childhood what you have there is a person of extraordinary dedication who found a talent and my contention is all kids have tremendous talents and we squander them pretty ruthlesslyso i want to talk about education and i want to talk about creativity my contention is that creativity now is as important in education as literacy and we should treat it with the same status thank you that was it by the way thank you very much so minutes left well i was born no i heard a great story recently i love telling it of a little girl who was in a drawing lesson she was six and she was at the back drawing and the teacher said this girl hardly ever paid attention and in this drawing lesson she did the teacher was fascinated she went over to her and she said what are you drawing and the girl said im drawing a picture of god and the teacher said but nobody knows what god looks like and the girl said they will in a minute when my son was four in england actually he was four everywhere to be honest if were being strict about it wherever he went he was four that year he was in the nativity play do you remember the story no it was big it was a big story mel gibson did the sequel you may have seen it nativity ii but james got the part of joseph which we were thrilled about we considered this to be one of the lead parts we had the place crammed full of agents in tshirts james robinson is joseph he didnt have to speak but you know the bit where the three kings come in they come in bearing gifts gold frankincense and myrrh this really happened we were sitting there and i think they just went out of sequence because we talked to the little boy afterward and we said you ok with that and he said yeah why was that wrong they just switched the three boys came in fouryearolds with tea towels on their heads and they put these boxes down and the first boy said i bring you gold and the second boy said i bring you myrrh and the third boy said frank sent this what these things have in common is that kids will take a chance if they dont know theyll have a go am i right theyre not frightened of being wrong i dont mean to say that being wrong is the same thing as being creative what we do know is if youre not prepared to be wrong youll never come up with anything original if youre not prepared to be wrong and by the time they get to be adults most kids have lost that capacity they have become frightened of being wrong and we run our companies like this we stigmatize mistakes and were now running national education systems where mistakes are the worst thing you can make and the result is that we are educating people out of their creative capacitiespicasso once said this he said that all children are born artists the problem is to remain an artist as we grow up i believe this passionately that we dont grow into creativity we grow out of it or rather we get educated out of it so why is thisi lived in stratfordonavon until about five years ago in fact we moved from stratford to los angeles so you can imagine what a seamless transition that was actually we lived in a place called snitterfield just outside stratford which is where shakespeares father was born are you struck by a new thought i was you dont think of shakespeare having a father do you do you because you dont think of shakespeare being a child do you shakespeare being seven i never thought of it i mean he was seven at some point he was in somebodys english class wasnt he how annoying would that be must try harder being sent to bed by his dad you know to shakespeare go to bed now and put the pencil down and stop speaking like that its confusing everybody anyway we moved from stratford to los angeles and i just want to say a word about the transition my son didnt want to come ive got two kids hes now my daughters he didnt want to come to los angeles he loved it but he had a girlfriend in england this was the love of his life sarah hed known her for a month mind you theyd had their fourth anniversary because its a long time when youre he was really upset on the plane he said ill never find another girl like sarah and we were rather pleased about that frankly because she was the main reason we were leaving the country but something strikes you when you move to america and travel around the world every education system on earth has the same hierarchy of subjects every one doesnt matter where you go youd think it would be otherwise but it isnt at the top are mathematics and languages then the humanities and at the bottom are the arts everywhere on earth and in pretty much every system too theres a hierarchy within the arts art and music are normally given a higher status in schools than drama and dance there isnt an education system on the planet that teaches dance everyday to children the way we teach them mathematics why why not i think this is rather important i think math is very important but so is dance children dance all the time if theyre allowed to we all do we all have bodies dont we did i miss a meeting truthfully what happens is as children grow up we start to educate them progressively from the waist up and then we focus on their heads and slightly to one sideif you were to visit education as an alien and say whats it for public education i think youd have to conclude if you look at the output who really succeeds by this who does everything that they should who gets all the brownie points who are the winners i think youd have to conclude the whole purpose of public education throughout the world is to produce university professors isnt it theyre the people who come out the top and i used to be one so there and i like university professors but you know we shouldnt hold them up as the highwater mark of all human achievement theyre just a form of life another form of life but theyre rather curious and i say this out of affection for them theres something curious about professors in my experience not all of them but typically they live in their heads they live up there and slightly to one side theyre disembodied you know in a kind of literal way they look upon their body as a form of transport for their heads dont they its a way of getting their head to meetings if you want real evidence of outofbody experiences get yourself along to a residential conference of senior academics and pop into the discotheque on the final night and there you will see it grown men and women writhing uncontrollably off the beat waiting until it ends so they can go home and write a paper about it our education system is predicated on the idea of academic ability and theres a reason around the world there were no public systems of education really before the th century they all came into being to meet the needs of industrialism so the hierarchy is rooted on two ideasnumber one that the most useful subjects for work are at the top so you were probably steered benignly away from things at school when you were a kid things you liked on the grounds that you would never get a job doing that is that right dont do music youre not going to be a musician dont do art you wont be an artist benign advice now profoundly mistaken the whole world is engulfed in a revolutionand the second is academic ability which has really come to dominate our view of intelligence because the universities designed the system in their image if you think of it the whole system of public education around the world is a protracted process of university entrance and the consequence is that many highlytalented brilliant creative people think theyre not because the thing they were good at at school wasnt valued or was actually stigmatized and i think we cant afford to go on that wayin the next years according to unesco more people worldwide will be graduating through education than since the beginning of history more people and its the combination of all the things weve talked about technology and its transformation effect on work and demography and the huge explosion in populationsuddenly degrees arent worth anything isnt that true when i was a student if you had a degree you had a job if you didnt have a job its because you didnt want one and i didnt want one frankly but now kids with degrees are often heading home to carry on playing video games because you need an ma where the previous job required a ba and now you need a phd for the other its a process of academic inflation and it indicates the whole structure of education is shifting beneath our feet we need to radically rethink our view of intelligencewe know three things about intelligence one its diverse we think about the world in all the ways that we experience it we think visually we think in sound we think kinesthetically we think in abstract terms we think in movement secondly intelligence is dynamic if you look at the interactions of a human brain as we heard yesterday from a number of presentations intelligence is wonderfully interactive the brain isnt divided into compartments in fact creativity which i define as the process of having original ideas that have value more often than not comes about through the interaction of different disciplinary ways of seeing thingsby the way theres a shaft of nerves that joins the two halves of the brain called the corpus callosum its thicker in women following off from helen yesterday this is probably why women are better at multitasking because you are arent you theres a raft of research but i know it from my personal life if my wife is cooking a meal at home which is not often thankfully no shes good at some things but if shes cooking shes dealing with people on the phone shes talking to the kids shes painting the ceiling shes doing openheart surgery over here if im cooking the door is shut the kids are out the phones on the hook if she comes in i get annoyed i say terry please im trying to fry an egg in here give me a break actually do you know that old philosophical thing if a tree falls in a forest and nobody hears it did it happen remember that old chestnut i saw a great tshirt recently which said if a man speaks his mind in a forest and no woman hears him is he still wrong and the third thing about intelligence is its distinct im doing a new book at the moment called epiphany which is based on a series of interviews with people about how they discovered their talent im fascinated by how people got to be there its really prompted by a conversation i had with a wonderful woman who maybe most people have never heard of gillian lynne have you heard of her some have shes a choreographer and everybody knows her work she did cats and phantom of the opera shes wonderful i used to be on the board of the royal ballet as you can see anyway gillian and i had lunch one day and i said how did you get to be a dancer it was interesting when she was at school she was really hopeless and the school in the s wrote to her parents and said we think gillian has a learning disorder she couldnt concentrate she was fidgeting i think now theyd say she had adhd wouldnt you but this was the s and adhd hadnt been invented at this point it wasnt an available condition people werent aware they could have that anyway she went to see this specialist so this oakpaneled room and she was there with her mother and she was led and sat on this chair at the end and she sat on her hands for minutes while this man talked to her mother about the problems gillian was having at school because she was disturbing people her homework was always late and so on little kid of eight in the end the doctor went and sat next to gillian and said ive listened to all these things your mothers told me i need to speak to her privately wait here well be back we wont be very long and they went and left herbut as they went out of the room he turned on the radio that was sitting on his desk and when they got out he said to her mother just stand and watch her and the minute they left the room she was on her feet moving to the music and they watched for a few minutes and he turned to her mother and said mrs lynne gillian isnt sick shes a dancer take her to a dance schooli said what happened she said she did i cant tell you how wonderful it was we walked in this room and it was full of people like me people who couldnt sit still people who had to move to think who had to move to think they did ballet they did tap jazz they did modern they did contemporary she was eventually auditioned for the royal ballet school she became a soloist she had a wonderful career at the royal ballet she eventually graduated from the royal ballet school founded the gillian lynne dance company met andrew lloyd webber shes been responsible for some of the most successful musical theater productions in history shes given pleasure to millions and shes a multimillionaire somebody else might have put her on medication and told her to calm down what i think it comes to is this al gore spoke the other night about ecology and the revolution that was triggered by rachel carson i believe our only hope for the future is to adopt a new conception of human ecology one in which we start to reconstitute our conception of the richness of human capacity our education system has mined our minds in the way that we stripmine the earth for a particular commodity and for the future it wont serve us we have to rethink the fundamental principles on which were educating our childrenthere was a wonderful quote by jonas salk who said if all the insects were to disappear from the earth within years all life on earth would end if all human beings disappeared from the earth within years all forms of life would flourish and hes rightwhat ted celebrates is the gift of the human imagination we have to be careful now that we use this gift wisely and that we avert some of the scenarios that weve talked about and the only way well do it is by seeing our creative capacities for the richness they are and seeing our children for the hope that they are and our task is to educate their whole being so they can face this future by the way we may not see this future but they will and our job is to help them make something of itthank you very much \n",
            "Name: transcript, dtype: object\n"
          ],
          "name": "stdout"
        }
      ]
    },
    {
      "cell_type": "code",
      "metadata": {
        "id": "JHJtwrQ2h8XY"
      },
      "source": [
        "# Removing built-in stopwords\n",
        "# df.transcript = df.transcript.apply(remove_sw)\n",
        "# df.transcript = (remove_sw(df.transcript))\n",
        "extras = ['im', 'i', 'so', 'or', 'and', 'but', 'us', 'like', 'ive', 'didnt', 'would', 'dont', 'thats']\n",
        "stop_words = set(stopwords.words('english'))\n",
        "stop_words.update(extras)\n",
        "\n",
        "df.transcript = df.transcript.apply(lambda x: \" \".join(term for term in x.split() if term not in stop_words))"
      ],
      "execution_count": 50,
      "outputs": []
    },
    {
      "cell_type": "code",
      "metadata": {
        "id": "BdSyO-nJdkg_"
      },
      "source": [
        "# # Applying text processing after stop words \n",
        "# df.transcript = df.transcript.apply(clean_text)"
      ],
      "execution_count": 51,
      "outputs": []
    },
    {
      "cell_type": "code",
      "metadata": {
        "id": "2Ibn0A4ih8XY",
        "colab": {
          "base_uri": "https://localhost:8080/"
        },
        "outputId": "e7081525-56dd-40ae-bf4c-8bf1b80b9efa"
      },
      "source": [
        "print(df.transcript.head(1))\n",
        "print('\\nLength of original string: '+str(len(df2.transcript[0])))\n",
        "print('Length of cleaned string: '+str(len(df.transcript[0])))"
      ],
      "execution_count": 52,
      "outputs": [
        {
          "output_type": "stream",
          "text": [
            "0    good morning great hasnt blown away whole thing fact leaving three themes running conference relevant want talk one extraordinary evidence human creativity presentations weve people variety range second put place idea whats going happen terms future idea may play outi interest education actually find everybody interest education find interesting youre dinner party say work education actually youre often dinner parties frankly work education youre asked youre never asked back curiously strange say somebody know say say work education see blood run face theyre oh god know one night week ask education pin wall one things goes deep people right religion money things big interest education think huge vested interest partly education meant take future cant grasp think children starting school year retiring nobody clue despite expertise parade past four days world look five years time yet meant educating unpredictability think extraordinaryand third part weve agreed nonetheless really extraordinary capacities children capacities innovation mean sirena last night marvel wasnt seeing could shes exceptional think shes speak exceptional whole childhood person extraordinary dedication found talent contention kids tremendous talents squander pretty ruthlesslyso want talk education want talk creativity contention creativity important education literacy treat status thank way thank much minutes left well born heard great story recently love telling little girl drawing lesson six back drawing teacher said girl hardly ever paid attention drawing lesson teacher fascinated went said drawing girl said drawing picture god teacher said nobody knows god looks girl said minute son four england actually four everywhere honest strict wherever went four year nativity play remember story big big story mel gibson sequel may seen nativity ii james got part joseph thrilled considered one lead parts place crammed full agents tshirts james robinson joseph speak know bit three kings come come bearing gifts gold frankincense myrrh really happened sitting think went sequence talked little boy afterward said ok said yeah wrong switched three boys came fouryearolds tea towels heads put boxes first boy said bring gold second boy said bring myrrh third boy said frank sent things common kids take chance know theyll go right theyre frightened wrong mean say wrong thing creative know youre prepared wrong youll never come anything original youre prepared wrong time get adults kids lost capacity become frightened wrong run companies stigmatize mistakes running national education systems mistakes worst thing make result educating people creative capacitiespicasso said said children born artists problem remain artist grow believe passionately grow creativity grow rather get educated thisi lived stratfordonavon five years ago fact moved stratford los angeles imagine seamless transition actually lived place called snitterfield outside stratford shakespeares father born struck new thought think shakespeare father think shakespeare child shakespeare seven never thought mean seven point somebodys english class wasnt annoying must try harder sent bed dad know shakespeare go bed put pencil stop speaking confusing everybody anyway moved stratford los angeles want say word transition son want come got two kids hes daughters want come los angeles loved girlfriend england love life sarah hed known month mind theyd fourth anniversary long time youre really upset plane said ill never find another girl sarah rather pleased frankly main reason leaving country something strikes move america travel around world every education system earth hierarchy subjects every one doesnt matter go youd think otherwise isnt top mathematics languages humanities bottom arts everywhere earth pretty much every system theres hierarchy within arts art music normally given higher status schools drama dance isnt education system planet teaches dance everyday children way teach mathematics think rather important think math important dance children dance time theyre allowed bodies miss meeting truthfully happens children grow start educate progressively waist focus heads slightly one sideif visit education alien say whats public education think youd conclude look output really succeeds everything gets brownie points winners think youd conclude whole purpose public education throughout world produce university professors isnt theyre people come top used one university professors know shouldnt hold highwater mark human achievement theyre form life another form life theyre rather curious say affection theres something curious professors experience typically live heads live slightly one side theyre disembodied know kind literal way look upon body form transport heads way getting head meetings want real evidence outofbody experiences get along residential conference senior academics pop discotheque final night see grown men women writhing uncontrollably beat waiting ends go home write paper education system predicated idea academic ability theres reason around world public systems education really th century came meet needs industrialism hierarchy rooted two ideasnumber one useful subjects work top probably steered benignly away things school kid things liked grounds never get job right music youre going musician art wont artist benign advice profoundly mistaken whole world engulfed revolutionand second academic ability really come dominate view intelligence universities designed system image think whole system public education around world protracted process university entrance consequence many highlytalented brilliant creative people think theyre thing good school wasnt valued actually stigmatized think cant afford go wayin next years according unesco people worldwide graduating education since beginning history people combination things weve talked technology transformation effect work demography huge explosion populationsuddenly degrees arent worth anything isnt true student degree job job want one want one frankly kids degrees often heading home carry playing video games need previous job required ba need phd process academic inflation indicates whole structure education shifting beneath feet need radically rethink view intelligencewe know three things intelligence one diverse think world ways experience think visually think sound think kinesthetically think abstract terms think movement secondly intelligence dynamic look interactions human brain heard yesterday number presentations intelligence wonderfully interactive brain isnt divided compartments fact creativity define process original ideas value often comes interaction different disciplinary ways seeing thingsby way theres shaft nerves joins two halves brain called corpus callosum thicker women following helen yesterday probably women better multitasking arent theres raft research know personal life wife cooking meal home often thankfully shes good things shes cooking shes dealing people phone shes talking kids shes painting ceiling shes openheart surgery cooking door shut kids phones hook comes get annoyed say terry please trying fry egg give break actually know old philosophical thing tree falls forest nobody hears happen remember old chestnut saw great tshirt recently said man speaks mind forest woman hears still wrong third thing intelligence distinct new book moment called epiphany based series interviews people discovered talent fascinated people got really prompted conversation wonderful woman maybe people never heard gillian lynne heard shes choreographer everybody knows work cats phantom opera shes wonderful used board royal ballet see anyway gillian lunch one day said get dancer interesting school really hopeless school wrote parents said think gillian learning disorder couldnt concentrate fidgeting think theyd say adhd wouldnt adhd hadnt invented point wasnt available condition people werent aware could anyway went see specialist oakpaneled room mother led sat chair end sat hands minutes man talked mother problems gillian school disturbing people homework always late little kid eight end doctor went sat next gillian said listened things mothers told need speak privately wait well back wont long went left herbut went room turned radio sitting desk got said mother stand watch minute left room feet moving music watched minutes turned mother said mrs lynne gillian isnt sick shes dancer take dance schooli said happened said cant tell wonderful walked room full people people couldnt sit still people move think move think ballet tap jazz modern contemporary eventually auditioned royal ballet school became soloist wonderful career royal ballet eventually graduated royal ballet school founded gillian lynne dance company met andrew lloyd webber shes responsible successful musical theater productions history shes given pleasure millions shes multimillionaire somebody else might put medication told calm think comes al gore spoke night ecology revolution triggered rachel carson believe hope future adopt new conception human ecology one start reconstitute conception richness human capacity education system mined minds way stripmine earth particular commodity future wont serve rethink fundamental principles educating childrenthere wonderful quote jonas salk said insects disappear earth within years life earth end human beings disappeared earth within years forms life flourish hes rightwhat ted celebrates gift human imagination careful use gift wisely avert scenarios weve talked way well seeing creative capacities richness seeing children hope task educate whole face future way may see future job help make something itthank much\n",
            "Name: transcript, dtype: object\n",
            "\n",
            "Length of original string: 17409\n",
            "Length of cleaned string: 9678\n"
          ],
          "name": "stdout"
        }
      ]
    },
    {
      "cell_type": "code",
      "metadata": {
        "id": "dJYjO2Fndpj5"
      },
      "source": [
        ""
      ],
      "execution_count": 52,
      "outputs": []
    },
    {
      "cell_type": "markdown",
      "metadata": {
        "id": "eeCC3U19kJdx"
      },
      "source": [
        "### Stemming or Lemmatizing"
      ]
    },
    {
      "cell_type": "code",
      "metadata": {
        "id": "WHNpt74adFe_"
      },
      "source": [
        "# Stemming - Removing\n",
        "#   - Types:\n",
        "#     - Porter\n",
        "#     - Snowball - Improved version of Porter\n",
        "#     - Lancaster -  Hard to interpret but more effecient method\n",
        "#   - Removes Suffix\n",
        "#   - No Context\n",
        "#   - Weird Words Sometimes\n",
        "#   - Fast\n",
        "\n",
        "# Lemmatizing - Root Word\n",
        "#   - Replaces with Root Word\n",
        "#   - Slow\n",
        "#   - Root Meaning"
      ],
      "execution_count": 53,
      "outputs": []
    },
    {
      "cell_type": "code",
      "metadata": {
        "id": "G8xwSPIVkI_4"
      },
      "source": [
        "# SnowballStemmer\n",
        "def stem(text):\n",
        "  stemmer = SnowballStemmer('english')\n",
        "  return ''.join([stemmer.stem(word) for word in text])\n",
        "\n",
        "def lem(text):\n",
        "  lemmatizer = WordNetLemmatizer()\n",
        "  return ''.join([lemmatizer.lemmatize(word) for word in text])\n"
      ],
      "execution_count": 54,
      "outputs": []
    },
    {
      "cell_type": "code",
      "metadata": {
        "id": "8ADmE4D7cG3R"
      },
      "source": [
        "# df.columns"
      ],
      "execution_count": 55,
      "outputs": []
    },
    {
      "cell_type": "code",
      "metadata": {
        "id": "lRNj4ceC79cM",
        "colab": {
          "base_uri": "https://localhost:8080/",
          "height": 199
        },
        "outputId": "60595083-98a0-4c56-9798-09c4971e37da"
      },
      "source": [
        "# Original Cleaned Transcript\n",
        "df.transcript[0]"
      ],
      "execution_count": 56,
      "outputs": [
        {
          "output_type": "execute_result",
          "data": {
            "application/vnd.google.colaboratory.intrinsic+json": {
              "type": "string"
            },
            "text/plain": [
              "'good morning great hasnt blown away whole thing fact leaving three themes running conference relevant want talk one extraordinary evidence human creativity presentations weve people variety range second put place idea whats going happen terms future idea may play outi interest education actually find everybody interest education find interesting youre dinner party say work education actually youre often dinner parties frankly work education youre asked youre never asked back curiously strange say somebody know say say work education see blood run face theyre oh god know one night week ask education pin wall one things goes deep people right religion money things big interest education think huge vested interest partly education meant take future cant grasp think children starting school year retiring nobody clue despite expertise parade past four days world look five years time yet meant educating unpredictability think extraordinaryand third part weve agreed nonetheless really extraordinary capacities children capacities innovation mean sirena last night marvel wasnt seeing could shes exceptional think shes speak exceptional whole childhood person extraordinary dedication found talent contention kids tremendous talents squander pretty ruthlesslyso want talk education want talk creativity contention creativity important education literacy treat status thank way thank much minutes left well born heard great story recently love telling little girl drawing lesson six back drawing teacher said girl hardly ever paid attention drawing lesson teacher fascinated went said drawing girl said drawing picture god teacher said nobody knows god looks girl said minute son four england actually four everywhere honest strict wherever went four year nativity play remember story big big story mel gibson sequel may seen nativity ii james got part joseph thrilled considered one lead parts place crammed full agents tshirts james robinson joseph speak know bit three kings come come bearing gifts gold frankincense myrrh really happened sitting think went sequence talked little boy afterward said ok said yeah wrong switched three boys came fouryearolds tea towels heads put boxes first boy said bring gold second boy said bring myrrh third boy said frank sent things common kids take chance know theyll go right theyre frightened wrong mean say wrong thing creative know youre prepared wrong youll never come anything original youre prepared wrong time get adults kids lost capacity become frightened wrong run companies stigmatize mistakes running national education systems mistakes worst thing make result educating people creative capacitiespicasso said said children born artists problem remain artist grow believe passionately grow creativity grow rather get educated thisi lived stratfordonavon five years ago fact moved stratford los angeles imagine seamless transition actually lived place called snitterfield outside stratford shakespeares father born struck new thought think shakespeare father think shakespeare child shakespeare seven never thought mean seven point somebodys english class wasnt annoying must try harder sent bed dad know shakespeare go bed put pencil stop speaking confusing everybody anyway moved stratford los angeles want say word transition son want come got two kids hes daughters want come los angeles loved girlfriend england love life sarah hed known month mind theyd fourth anniversary long time youre really upset plane said ill never find another girl sarah rather pleased frankly main reason leaving country something strikes move america travel around world every education system earth hierarchy subjects every one doesnt matter go youd think otherwise isnt top mathematics languages humanities bottom arts everywhere earth pretty much every system theres hierarchy within arts art music normally given higher status schools drama dance isnt education system planet teaches dance everyday children way teach mathematics think rather important think math important dance children dance time theyre allowed bodies miss meeting truthfully happens children grow start educate progressively waist focus heads slightly one sideif visit education alien say whats public education think youd conclude look output really succeeds everything gets brownie points winners think youd conclude whole purpose public education throughout world produce university professors isnt theyre people come top used one university professors know shouldnt hold highwater mark human achievement theyre form life another form life theyre rather curious say affection theres something curious professors experience typically live heads live slightly one side theyre disembodied know kind literal way look upon body form transport heads way getting head meetings want real evidence outofbody experiences get along residential conference senior academics pop discotheque final night see grown men women writhing uncontrollably beat waiting ends go home write paper education system predicated idea academic ability theres reason around world public systems education really th century came meet needs industrialism hierarchy rooted two ideasnumber one useful subjects work top probably steered benignly away things school kid things liked grounds never get job right music youre going musician art wont artist benign advice profoundly mistaken whole world engulfed revolutionand second academic ability really come dominate view intelligence universities designed system image think whole system public education around world protracted process university entrance consequence many highlytalented brilliant creative people think theyre thing good school wasnt valued actually stigmatized think cant afford go wayin next years according unesco people worldwide graduating education since beginning history people combination things weve talked technology transformation effect work demography huge explosion populationsuddenly degrees arent worth anything isnt true student degree job job want one want one frankly kids degrees often heading home carry playing video games need previous job required ba need phd process academic inflation indicates whole structure education shifting beneath feet need radically rethink view intelligencewe know three things intelligence one diverse think world ways experience think visually think sound think kinesthetically think abstract terms think movement secondly intelligence dynamic look interactions human brain heard yesterday number presentations intelligence wonderfully interactive brain isnt divided compartments fact creativity define process original ideas value often comes interaction different disciplinary ways seeing thingsby way theres shaft nerves joins two halves brain called corpus callosum thicker women following helen yesterday probably women better multitasking arent theres raft research know personal life wife cooking meal home often thankfully shes good things shes cooking shes dealing people phone shes talking kids shes painting ceiling shes openheart surgery cooking door shut kids phones hook comes get annoyed say terry please trying fry egg give break actually know old philosophical thing tree falls forest nobody hears happen remember old chestnut saw great tshirt recently said man speaks mind forest woman hears still wrong third thing intelligence distinct new book moment called epiphany based series interviews people discovered talent fascinated people got really prompted conversation wonderful woman maybe people never heard gillian lynne heard shes choreographer everybody knows work cats phantom opera shes wonderful used board royal ballet see anyway gillian lunch one day said get dancer interesting school really hopeless school wrote parents said think gillian learning disorder couldnt concentrate fidgeting think theyd say adhd wouldnt adhd hadnt invented point wasnt available condition people werent aware could anyway went see specialist oakpaneled room mother led sat chair end sat hands minutes man talked mother problems gillian school disturbing people homework always late little kid eight end doctor went sat next gillian said listened things mothers told need speak privately wait well back wont long went left herbut went room turned radio sitting desk got said mother stand watch minute left room feet moving music watched minutes turned mother said mrs lynne gillian isnt sick shes dancer take dance schooli said happened said cant tell wonderful walked room full people people couldnt sit still people move think move think ballet tap jazz modern contemporary eventually auditioned royal ballet school became soloist wonderful career royal ballet eventually graduated royal ballet school founded gillian lynne dance company met andrew lloyd webber shes responsible successful musical theater productions history shes given pleasure millions shes multimillionaire somebody else might put medication told calm think comes al gore spoke night ecology revolution triggered rachel carson believe hope future adopt new conception human ecology one start reconstitute conception richness human capacity education system mined minds way stripmine earth particular commodity future wont serve rethink fundamental principles educating childrenthere wonderful quote jonas salk said insects disappear earth within years life earth end human beings disappeared earth within years forms life flourish hes rightwhat ted celebrates gift human imagination careful use gift wisely avert scenarios weve talked way well seeing creative capacities richness seeing children hope task educate whole face future way may see future job help make something itthank much'"
            ]
          },
          "metadata": {
            "tags": []
          },
          "execution_count": 56
        }
      ]
    },
    {
      "cell_type": "code",
      "metadata": {
        "id": "GdgPHWYAkJCF"
      },
      "source": [
        "df.transcript_lem = df.transcript.apply(lem)"
      ],
      "execution_count": 57,
      "outputs": []
    },
    {
      "cell_type": "code",
      "metadata": {
        "id": "6UCMXS5CqYfR",
        "colab": {
          "base_uri": "https://localhost:8080/",
          "height": 199
        },
        "outputId": "6634ed18-3dac-4577-d07e-8642f3685967"
      },
      "source": [
        "# Original Cleaned Transcript and Lemmatizing\n",
        "df.transcript_lem[0]"
      ],
      "execution_count": 58,
      "outputs": [
        {
          "output_type": "execute_result",
          "data": {
            "application/vnd.google.colaboratory.intrinsic+json": {
              "type": "string"
            },
            "text/plain": [
              "'good morning great hasnt blown away whole thing fact leaving three themes running conference relevant want talk one extraordinary evidence human creativity presentations weve people variety range second put place idea whats going happen terms future idea may play outi interest education actually find everybody interest education find interesting youre dinner party say work education actually youre often dinner parties frankly work education youre asked youre never asked back curiously strange say somebody know say say work education see blood run face theyre oh god know one night week ask education pin wall one things goes deep people right religion money things big interest education think huge vested interest partly education meant take future cant grasp think children starting school year retiring nobody clue despite expertise parade past four days world look five years time yet meant educating unpredictability think extraordinaryand third part weve agreed nonetheless really extraordinary capacities children capacities innovation mean sirena last night marvel wasnt seeing could shes exceptional think shes speak exceptional whole childhood person extraordinary dedication found talent contention kids tremendous talents squander pretty ruthlesslyso want talk education want talk creativity contention creativity important education literacy treat status thank way thank much minutes left well born heard great story recently love telling little girl drawing lesson six back drawing teacher said girl hardly ever paid attention drawing lesson teacher fascinated went said drawing girl said drawing picture god teacher said nobody knows god looks girl said minute son four england actually four everywhere honest strict wherever went four year nativity play remember story big big story mel gibson sequel may seen nativity ii james got part joseph thrilled considered one lead parts place crammed full agents tshirts james robinson joseph speak know bit three kings come come bearing gifts gold frankincense myrrh really happened sitting think went sequence talked little boy afterward said ok said yeah wrong switched three boys came fouryearolds tea towels heads put boxes first boy said bring gold second boy said bring myrrh third boy said frank sent things common kids take chance know theyll go right theyre frightened wrong mean say wrong thing creative know youre prepared wrong youll never come anything original youre prepared wrong time get adults kids lost capacity become frightened wrong run companies stigmatize mistakes running national education systems mistakes worst thing make result educating people creative capacitiespicasso said said children born artists problem remain artist grow believe passionately grow creativity grow rather get educated thisi lived stratfordonavon five years ago fact moved stratford los angeles imagine seamless transition actually lived place called snitterfield outside stratford shakespeares father born struck new thought think shakespeare father think shakespeare child shakespeare seven never thought mean seven point somebodys english class wasnt annoying must try harder sent bed dad know shakespeare go bed put pencil stop speaking confusing everybody anyway moved stratford los angeles want say word transition son want come got two kids hes daughters want come los angeles loved girlfriend england love life sarah hed known month mind theyd fourth anniversary long time youre really upset plane said ill never find another girl sarah rather pleased frankly main reason leaving country something strikes move america travel around world every education system earth hierarchy subjects every one doesnt matter go youd think otherwise isnt top mathematics languages humanities bottom arts everywhere earth pretty much every system theres hierarchy within arts art music normally given higher status schools drama dance isnt education system planet teaches dance everyday children way teach mathematics think rather important think math important dance children dance time theyre allowed bodies miss meeting truthfully happens children grow start educate progressively waist focus heads slightly one sideif visit education alien say whats public education think youd conclude look output really succeeds everything gets brownie points winners think youd conclude whole purpose public education throughout world produce university professors isnt theyre people come top used one university professors know shouldnt hold highwater mark human achievement theyre form life another form life theyre rather curious say affection theres something curious professors experience typically live heads live slightly one side theyre disembodied know kind literal way look upon body form transport heads way getting head meetings want real evidence outofbody experiences get along residential conference senior academics pop discotheque final night see grown men women writhing uncontrollably beat waiting ends go home write paper education system predicated idea academic ability theres reason around world public systems education really th century came meet needs industrialism hierarchy rooted two ideasnumber one useful subjects work top probably steered benignly away things school kid things liked grounds never get job right music youre going musician art wont artist benign advice profoundly mistaken whole world engulfed revolutionand second academic ability really come dominate view intelligence universities designed system image think whole system public education around world protracted process university entrance consequence many highlytalented brilliant creative people think theyre thing good school wasnt valued actually stigmatized think cant afford go wayin next years according unesco people worldwide graduating education since beginning history people combination things weve talked technology transformation effect work demography huge explosion populationsuddenly degrees arent worth anything isnt true student degree job job want one want one frankly kids degrees often heading home carry playing video games need previous job required ba need phd process academic inflation indicates whole structure education shifting beneath feet need radically rethink view intelligencewe know three things intelligence one diverse think world ways experience think visually think sound think kinesthetically think abstract terms think movement secondly intelligence dynamic look interactions human brain heard yesterday number presentations intelligence wonderfully interactive brain isnt divided compartments fact creativity define process original ideas value often comes interaction different disciplinary ways seeing thingsby way theres shaft nerves joins two halves brain called corpus callosum thicker women following helen yesterday probably women better multitasking arent theres raft research know personal life wife cooking meal home often thankfully shes good things shes cooking shes dealing people phone shes talking kids shes painting ceiling shes openheart surgery cooking door shut kids phones hook comes get annoyed say terry please trying fry egg give break actually know old philosophical thing tree falls forest nobody hears happen remember old chestnut saw great tshirt recently said man speaks mind forest woman hears still wrong third thing intelligence distinct new book moment called epiphany based series interviews people discovered talent fascinated people got really prompted conversation wonderful woman maybe people never heard gillian lynne heard shes choreographer everybody knows work cats phantom opera shes wonderful used board royal ballet see anyway gillian lunch one day said get dancer interesting school really hopeless school wrote parents said think gillian learning disorder couldnt concentrate fidgeting think theyd say adhd wouldnt adhd hadnt invented point wasnt available condition people werent aware could anyway went see specialist oakpaneled room mother led sat chair end sat hands minutes man talked mother problems gillian school disturbing people homework always late little kid eight end doctor went sat next gillian said listened things mothers told need speak privately wait well back wont long went left herbut went room turned radio sitting desk got said mother stand watch minute left room feet moving music watched minutes turned mother said mrs lynne gillian isnt sick shes dancer take dance schooli said happened said cant tell wonderful walked room full people people couldnt sit still people move think move think ballet tap jazz modern contemporary eventually auditioned royal ballet school became soloist wonderful career royal ballet eventually graduated royal ballet school founded gillian lynne dance company met andrew lloyd webber shes responsible successful musical theater productions history shes given pleasure millions shes multimillionaire somebody else might put medication told calm think comes al gore spoke night ecology revolution triggered rachel carson believe hope future adopt new conception human ecology one start reconstitute conception richness human capacity education system mined minds way stripmine earth particular commodity future wont serve rethink fundamental principles educating childrenthere wonderful quote jonas salk said insects disappear earth within years life earth end human beings disappeared earth within years forms life flourish hes rightwhat ted celebrates gift human imagination careful use gift wisely avert scenarios weve talked way well seeing creative capacities richness seeing children hope task educate whole face future way may see future job help make something itthank much'"
            ]
          },
          "metadata": {
            "tags": []
          },
          "execution_count": 58
        }
      ]
    },
    {
      "cell_type": "code",
      "metadata": {
        "id": "PjGfll15kJGB"
      },
      "source": [
        "df.transcript_stem = df.transcript.apply(stem)"
      ],
      "execution_count": 59,
      "outputs": []
    },
    {
      "cell_type": "code",
      "metadata": {
        "id": "f4IlQ9O6dpmn",
        "colab": {
          "base_uri": "https://localhost:8080/",
          "height": 199
        },
        "outputId": "4cbf144a-2c82-440f-d438-7d59d92bc05d"
      },
      "source": [
        "# Original Cleaned Transcript and Stemming\n",
        "df.transcript_stem[0]"
      ],
      "execution_count": 60,
      "outputs": [
        {
          "output_type": "execute_result",
          "data": {
            "application/vnd.google.colaboratory.intrinsic+json": {
              "type": "string"
            },
            "text/plain": [
              "'good morning great hasnt blown away whole thing fact leaving three themes running conference relevant want talk one extraordinary evidence human creativity presentations weve people variety range second put place idea whats going happen terms future idea may play outi interest education actually find everybody interest education find interesting youre dinner party say work education actually youre often dinner parties frankly work education youre asked youre never asked back curiously strange say somebody know say say work education see blood run face theyre oh god know one night week ask education pin wall one things goes deep people right religion money things big interest education think huge vested interest partly education meant take future cant grasp think children starting school year retiring nobody clue despite expertise parade past four days world look five years time yet meant educating unpredictability think extraordinaryand third part weve agreed nonetheless really extraordinary capacities children capacities innovation mean sirena last night marvel wasnt seeing could shes exceptional think shes speak exceptional whole childhood person extraordinary dedication found talent contention kids tremendous talents squander pretty ruthlesslyso want talk education want talk creativity contention creativity important education literacy treat status thank way thank much minutes left well born heard great story recently love telling little girl drawing lesson six back drawing teacher said girl hardly ever paid attention drawing lesson teacher fascinated went said drawing girl said drawing picture god teacher said nobody knows god looks girl said minute son four england actually four everywhere honest strict wherever went four year nativity play remember story big big story mel gibson sequel may seen nativity ii james got part joseph thrilled considered one lead parts place crammed full agents tshirts james robinson joseph speak know bit three kings come come bearing gifts gold frankincense myrrh really happened sitting think went sequence talked little boy afterward said ok said yeah wrong switched three boys came fouryearolds tea towels heads put boxes first boy said bring gold second boy said bring myrrh third boy said frank sent things common kids take chance know theyll go right theyre frightened wrong mean say wrong thing creative know youre prepared wrong youll never come anything original youre prepared wrong time get adults kids lost capacity become frightened wrong run companies stigmatize mistakes running national education systems mistakes worst thing make result educating people creative capacitiespicasso said said children born artists problem remain artist grow believe passionately grow creativity grow rather get educated thisi lived stratfordonavon five years ago fact moved stratford los angeles imagine seamless transition actually lived place called snitterfield outside stratford shakespeares father born struck new thought think shakespeare father think shakespeare child shakespeare seven never thought mean seven point somebodys english class wasnt annoying must try harder sent bed dad know shakespeare go bed put pencil stop speaking confusing everybody anyway moved stratford los angeles want say word transition son want come got two kids hes daughters want come los angeles loved girlfriend england love life sarah hed known month mind theyd fourth anniversary long time youre really upset plane said ill never find another girl sarah rather pleased frankly main reason leaving country something strikes move america travel around world every education system earth hierarchy subjects every one doesnt matter go youd think otherwise isnt top mathematics languages humanities bottom arts everywhere earth pretty much every system theres hierarchy within arts art music normally given higher status schools drama dance isnt education system planet teaches dance everyday children way teach mathematics think rather important think math important dance children dance time theyre allowed bodies miss meeting truthfully happens children grow start educate progressively waist focus heads slightly one sideif visit education alien say whats public education think youd conclude look output really succeeds everything gets brownie points winners think youd conclude whole purpose public education throughout world produce university professors isnt theyre people come top used one university professors know shouldnt hold highwater mark human achievement theyre form life another form life theyre rather curious say affection theres something curious professors experience typically live heads live slightly one side theyre disembodied know kind literal way look upon body form transport heads way getting head meetings want real evidence outofbody experiences get along residential conference senior academics pop discotheque final night see grown men women writhing uncontrollably beat waiting ends go home write paper education system predicated idea academic ability theres reason around world public systems education really th century came meet needs industrialism hierarchy rooted two ideasnumber one useful subjects work top probably steered benignly away things school kid things liked grounds never get job right music youre going musician art wont artist benign advice profoundly mistaken whole world engulfed revolutionand second academic ability really come dominate view intelligence universities designed system image think whole system public education around world protracted process university entrance consequence many highlytalented brilliant creative people think theyre thing good school wasnt valued actually stigmatized think cant afford go wayin next years according unesco people worldwide graduating education since beginning history people combination things weve talked technology transformation effect work demography huge explosion populationsuddenly degrees arent worth anything isnt true student degree job job want one want one frankly kids degrees often heading home carry playing video games need previous job required ba need phd process academic inflation indicates whole structure education shifting beneath feet need radically rethink view intelligencewe know three things intelligence one diverse think world ways experience think visually think sound think kinesthetically think abstract terms think movement secondly intelligence dynamic look interactions human brain heard yesterday number presentations intelligence wonderfully interactive brain isnt divided compartments fact creativity define process original ideas value often comes interaction different disciplinary ways seeing thingsby way theres shaft nerves joins two halves brain called corpus callosum thicker women following helen yesterday probably women better multitasking arent theres raft research know personal life wife cooking meal home often thankfully shes good things shes cooking shes dealing people phone shes talking kids shes painting ceiling shes openheart surgery cooking door shut kids phones hook comes get annoyed say terry please trying fry egg give break actually know old philosophical thing tree falls forest nobody hears happen remember old chestnut saw great tshirt recently said man speaks mind forest woman hears still wrong third thing intelligence distinct new book moment called epiphany based series interviews people discovered talent fascinated people got really prompted conversation wonderful woman maybe people never heard gillian lynne heard shes choreographer everybody knows work cats phantom opera shes wonderful used board royal ballet see anyway gillian lunch one day said get dancer interesting school really hopeless school wrote parents said think gillian learning disorder couldnt concentrate fidgeting think theyd say adhd wouldnt adhd hadnt invented point wasnt available condition people werent aware could anyway went see specialist oakpaneled room mother led sat chair end sat hands minutes man talked mother problems gillian school disturbing people homework always late little kid eight end doctor went sat next gillian said listened things mothers told need speak privately wait well back wont long went left herbut went room turned radio sitting desk got said mother stand watch minute left room feet moving music watched minutes turned mother said mrs lynne gillian isnt sick shes dancer take dance schooli said happened said cant tell wonderful walked room full people people couldnt sit still people move think move think ballet tap jazz modern contemporary eventually auditioned royal ballet school became soloist wonderful career royal ballet eventually graduated royal ballet school founded gillian lynne dance company met andrew lloyd webber shes responsible successful musical theater productions history shes given pleasure millions shes multimillionaire somebody else might put medication told calm think comes al gore spoke night ecology revolution triggered rachel carson believe hope future adopt new conception human ecology one start reconstitute conception richness human capacity education system mined minds way stripmine earth particular commodity future wont serve rethink fundamental principles educating childrenthere wonderful quote jonas salk said insects disappear earth within years life earth end human beings disappeared earth within years forms life flourish hes rightwhat ted celebrates gift human imagination careful use gift wisely avert scenarios weve talked way well seeing creative capacities richness seeing children hope task educate whole face future way may see future job help make something itthank much'"
            ]
          },
          "metadata": {
            "tags": []
          },
          "execution_count": 60
        }
      ]
    },
    {
      "cell_type": "code",
      "metadata": {
        "id": "-2-8HM84Rrmk"
      },
      "source": [
        ""
      ],
      "execution_count": 60,
      "outputs": []
    },
    {
      "cell_type": "markdown",
      "metadata": {
        "id": "3cl7ZgYdilNK"
      },
      "source": [
        "### Bag of Words"
      ]
    },
    {
      "cell_type": "code",
      "metadata": {
        "id": "JuWYU8GsESfx"
      },
      "source": [
        "class0_df = df[df.target != 1].reset_index()\n",
        "class1_df = df[df.target != 0].reset_index()"
      ],
      "execution_count": 61,
      "outputs": []
    },
    {
      "cell_type": "code",
      "metadata": {
        "colab": {
          "base_uri": "https://localhost:8080/"
        },
        "id": "cL3XRDUgHp-P",
        "outputId": "0c3857e8-c7d0-47db-e9a8-c949299c5b86"
      },
      "source": [
        "print(class0_df.target.value_counts())\n",
        "print(class1_df.target.value_counts())\n",
        "class0_df.columns"
      ],
      "execution_count": 62,
      "outputs": [
        {
          "output_type": "stream",
          "text": [
            "0    1152\n",
            "Name: target, dtype: int64\n",
            "1    1315\n",
            "Name: target, dtype: int64\n"
          ],
          "name": "stdout"
        },
        {
          "output_type": "execute_result",
          "data": {
            "text/plain": [
              "Index(['index', 'comments', 'description', 'duration', 'event', 'film_date',\n",
              "       'languages', 'main_speaker', 'name', 'num_speaker', 'published_date',\n",
              "       'ratings', 'related_talks', 'speaker_occupation', 'tags', 'title',\n",
              "       'url', 'views', 'transcript', 'target'],\n",
              "      dtype='object')"
            ]
          },
          "metadata": {
            "tags": []
          },
          "execution_count": 62
        }
      ]
    },
    {
      "cell_type": "code",
      "metadata": {
        "id": "JWHmMrdGMJhZ"
      },
      "source": [
        "# df.transcript_lem.head(1)\n",
        "# df.transcript_lem.head(5)"
      ],
      "execution_count": 63,
      "outputs": []
    },
    {
      "cell_type": "code",
      "metadata": {
        "id": "k7ouaQt7H8Nr"
      },
      "source": [
        "class0_df.transcript_lem = class0_df.transcript.apply(lem)\n",
        "class1_df.transcript_lem = class1_df.transcript.apply(lem)\n",
        "# df.transcript_lem = df.transcript.apply(lem)\n",
        "arb_lst = [df.transcript_lem, class0_df.transcript_lem, class1_df.transcript_lem]"
      ],
      "execution_count": 64,
      "outputs": []
    },
    {
      "cell_type": "code",
      "metadata": {
        "id": "AVgRlwziRY1L"
      },
      "source": [
        "# def create_bow(arb_lst):\n",
        "#   bow = []\n",
        "#   n = 0\n",
        "#   words = ''\n",
        "#   for trans in arb_lst[n]:\n",
        "#       words = word_tokenize(trans)\n",
        "#       for w in words:\n",
        "#           bow.append(w)\n",
        "#   bow[n] = nltk.FreqDist(bow)\n",
        "#   n+=1\n",
        "#   return bow\n",
        "\n",
        "# bow = create_bow(arb_lst)"
      ],
      "execution_count": 65,
      "outputs": []
    },
    {
      "cell_type": "code",
      "metadata": {
        "id": "xSZBtdGM6AAy"
      },
      "source": [
        "# Creating a Bag of Words\n",
        "\n",
        "bow_df, class0_bow, class1_bow = [], [], []\n",
        "\n",
        "for trans in df.transcript_lem:\n",
        "    words = word_tokenize(trans)\n",
        "    for w in words:\n",
        "        bow_df.append(w)\n",
        "bow_df = nltk.FreqDist(bow_df)\n",
        "\n",
        "for trans0 in class0_df.transcript_lem:\n",
        "    words0 = word_tokenize(trans0)\n",
        "    for w0 in words0:\n",
        "        class0_bow.append(w0)\n",
        "class0_bow = nltk.FreqDist(class0_bow)\n",
        "\n",
        "for trans1 in class1_df.transcript_lem:\n",
        "    words1 = word_tokenize(trans1)\n",
        "    for w1 in words1:\n",
        "        class1_bow.append(w1)\n",
        "class1_bow = nltk.FreqDist(class1_bow)\n"
      ],
      "execution_count": 66,
      "outputs": []
    },
    {
      "cell_type": "code",
      "metadata": {
        "id": "sORS3nb_RR2B"
      },
      "source": [
        "# len(bow_df)\n",
        "# len(class0_bow)\n",
        "# len(class1_bow)"
      ],
      "execution_count": 67,
      "outputs": []
    },
    {
      "cell_type": "code",
      "metadata": {
        "id": "Wf5m-Cz08R6h",
        "colab": {
          "base_uri": "https://localhost:8080/"
        },
        "outputId": "6bc2498f-1837-4957-c5d3-b44edd412c66"
      },
      "source": [
        "# B.O.W - For all Corpuse\n",
        "print('Bag of Words Count for all: {}'.format(len(bow_df)))\n",
        "print('Most Frequent Words for all: {}'.format((bow_df.most_common(10))))\n",
        "print('\\n')\n",
        "# B.O.W - Class 0\n",
        "print('Bag of Words Count for Class 0: {}'.format(len(class0_bow)))\n",
        "print('Most Frequent Words for Class 0: {}'.format((class0_bow.most_common(10))))\n",
        "print('\\n')\n",
        "# B.O.W - Class 1\n",
        "print('Bag of Words Count for Class 1: {}'.format(len(class1_bow)))\n",
        "print('Most Frequent Words for Class 1: {}'.format((class1_bow.most_common(10))))"
      ],
      "execution_count": 68,
      "outputs": [
        {
          "output_type": "stream",
          "text": [
            "Bag of Words Count for all: 97267\n",
            "Most Frequent Words for all: [('one', 19092), ('people', 18958), ('know', 12875), ('going', 12820), ('think', 12062), ('see', 11518), ('really', 11025), ('get', 10810), ('time', 9887), ('world', 9235)]\n",
            "\n",
            "\n",
            "Bag of Words Count for Class 0: 61958\n",
            "Most Frequent Words for Class 0: [('one', 8628), ('people', 8490), ('going', 6173), ('know', 5893), ('see', 5386), ('think', 5275), ('really', 5114), ('get', 4940), ('world', 4342), ('time', 4321)]\n",
            "\n",
            "\n",
            "Bag of Words Count for Class 1: 67189\n",
            "Most Frequent Words for Class 1: [('people', 10468), ('one', 10464), ('know', 6982), ('think', 6787), ('going', 6647), ('see', 6132), ('really', 5911), ('get', 5870), ('time', 5566), ('world', 4893)]\n"
          ],
          "name": "stdout"
        }
      ]
    },
    {
      "cell_type": "code",
      "metadata": {
        "id": "6wkUorlqwQPg",
        "colab": {
          "base_uri": "https://localhost:8080/",
          "height": 471
        },
        "outputId": "d4615495-1bc6-4200-f452-9e7dc0e2a8c0"
      },
      "source": [
        "# Getting Most Common Words n - Histogram\n",
        "n = 15\n",
        "most_bow = list(zip(*bow_df.most_common(n)))\n",
        "\n",
        "fig, ax = plt.subplots(figsize=(8,7))\n",
        "plt.barh(most_bow[0], most_bow[1])\n",
        "plt.title('Most Common Words', size=20)\n",
        "plt.xlabel('Word Count', size=15)\n",
        "plt.ylabel('Most Common Words', size=15)\n",
        "plt.xticks(size=12, rotation=0)\n",
        "plt.yticks(size=12, rotation=0)\n",
        "plt.show()"
      ],
      "execution_count": 69,
      "outputs": [
        {
          "output_type": "display_data",
          "data": {
            "image/png": "[encoded data removed]",
            "text/plain": [
              "<Figure size 576x504 with 1 Axes>"
            ]
          },
          "metadata": {
            "tags": [],
            "needs_background": "light"
          }
        }
      ]
    },
    {
      "cell_type": "code",
      "metadata": {
        "colab": {
          "base_uri": "https://localhost:8080/",
          "height": 471
        },
        "id": "7v_MwhKYjAug",
        "outputId": "453a179c-a163-4eda-ad7e-560065af7ce4"
      },
      "source": [
        "# Getting Most Common Words n - Histogram for Class 0\n",
        "n = 15\n",
        "most_bow0 = list(zip(*class0_bow.most_common(n)))\n",
        "\n",
        "fig, ax = plt.subplots(figsize=(8,7))\n",
        "plt.barh(most_bow0[0], most_bow0[1])\n",
        "plt.title('Most Common Words for Class 0', size=20)\n",
        "plt.xlabel('Word Count', size=15)\n",
        "plt.ylabel('Most Common Words', size=15)\n",
        "plt.xticks(size=12, rotation=0)\n",
        "plt.yticks(size=12, rotation=0)\n",
        "plt.show()"
      ],
      "execution_count": 70,
      "outputs": [
        {
          "output_type": "display_data",
          "data": {
            "image/png": "[encoded data removed]",
            "text/plain": [
              "<Figure size 576x504 with 1 Axes>"
            ]
          },
          "metadata": {
            "tags": [],
            "needs_background": "light"
          }
        }
      ]
    },
    {
      "cell_type": "code",
      "metadata": {
        "colab": {
          "base_uri": "https://localhost:8080/",
          "height": 471
        },
        "id": "jx4at-QujAy8",
        "outputId": "40046a83-7dc1-4d75-b2c0-f47c612e9165"
      },
      "source": [
        "# Getting Most Common Words n - Histogram for Class 1\n",
        "n = 15\n",
        "most_bow1 = list(zip(*class1_bow.most_common(n)))\n",
        "\n",
        "fig, ax = plt.subplots(figsize=(8,7))\n",
        "plt.barh(most_bow1[0], most_bow1[1])\n",
        "plt.title('Most Common Words for Class 1', size=20)\n",
        "plt.xlabel('Word Count', size=15)\n",
        "plt.ylabel('Most Common Words', size=15)\n",
        "plt.xticks(size=12, rotation=0)\n",
        "plt.yticks(size=12, rotation=0)\n",
        "plt.show()"
      ],
      "execution_count": 71,
      "outputs": [
        {
          "output_type": "display_data",
          "data": {
            "image/png": "[encoded data removed]",
            "text/plain": [
              "<Figure size 576x504 with 1 Axes>"
            ]
          },
          "metadata": {
            "tags": [],
            "needs_background": "light"
          }
        }
      ]
    },
    {
      "cell_type": "code",
      "metadata": {
        "colab": {
          "base_uri": "https://localhost:8080/"
        },
        "id": "q3UzdCmwjA2K",
        "outputId": "def01774-bbb6-44ec-d201-3924a0d80aa9"
      },
      "source": [
        "type(bow_df)"
      ],
      "execution_count": 72,
      "outputs": [
        {
          "output_type": "execute_result",
          "data": {
            "text/plain": [
              "nltk.probability.FreqDist"
            ]
          },
          "metadata": {
            "tags": []
          },
          "execution_count": 72
        }
      ]
    },
    {
      "cell_type": "code",
      "metadata": {
        "id": "M5QA6KrwD61k"
      },
      "source": [
        "# bow_df.most_common(10)"
      ],
      "execution_count": 73,
      "outputs": []
    },
    {
      "cell_type": "code",
      "metadata": {
        "id": "pHa7UkgXwQSe",
        "colab": {
          "base_uri": "https://localhost:8080/",
          "height": 325
        },
        "outputId": "ef4bd1c5-8a5f-4a03-b188-936e7c0bebe0"
      },
      "source": [
        "bow_df.plot(15, title='Most Common Words for All')"
      ],
      "execution_count": 74,
      "outputs": [
        {
          "output_type": "display_data",
          "data": {
            "image/png": "[encoded data removed]",
            "text/plain": [
              "<Figure size 432x288 with 1 Axes>"
            ]
          },
          "metadata": {
            "tags": [],
            "needs_background": "light"
          }
        }
      ]
    },
    {
      "cell_type": "code",
      "metadata": {
        "colab": {
          "base_uri": "https://localhost:8080/",
          "height": 325
        },
        "id": "b3VXuBqm82fa",
        "outputId": "84d66b15-60d3-40b2-b5cf-8d7cb6a51f8d"
      },
      "source": [
        "class0_bow.plot(15, title='Most Common Words for Class 0')"
      ],
      "execution_count": 75,
      "outputs": [
        {
          "output_type": "display_data",
          "data": {
            "image/png": "[encoded data removed]",
            "text/plain": [
              "<Figure size 432x288 with 1 Axes>"
            ]
          },
          "metadata": {
            "tags": [],
            "needs_background": "light"
          }
        }
      ]
    },
    {
      "cell_type": "code",
      "metadata": {
        "colab": {
          "base_uri": "https://localhost:8080/",
          "height": 325
        },
        "id": "AsRZskBu82iI",
        "outputId": "9f7a2ae5-db82-4eb8-cc2a-988c68ed4c3e"
      },
      "source": [
        "class1_bow.plot(15, title='Most Common Words for Class 1')"
      ],
      "execution_count": 76,
      "outputs": [
        {
          "output_type": "display_data",
          "data": {
            "image/png": "[encoded data removed]",
            "text/plain": [
              "<Figure size 432x288 with 1 Axes>"
            ]
          },
          "metadata": {
            "tags": [],
            "needs_background": "light"
          }
        }
      ]
    },
    {
      "cell_type": "code",
      "metadata": {
        "id": "O0YH4JaowQWj",
        "colab": {
          "base_uri": "https://localhost:8080/",
          "height": 254
        },
        "outputId": "8a060009-db68-49cc-fbee-ef60664ec1e0"
      },
      "source": [
        "# Getting Most Common Words n - WordCloud\n",
        "wordsSW = ' '.join([w for w in df.transcript_lem])\n",
        "wordCloud = WordCloud(max_words=75 , background_color='white', min_font_size=8).generate(wordsSW)\n",
        "\n",
        "\n",
        "plt.figure(figsize=(8, 7), facecolor=None)\n",
        "plt.imshow(wordCloud, interpolation='bilinear')\n",
        "plt.axis('off')\n",
        "plt.show()"
      ],
      "execution_count": 77,
      "outputs": [
        {
          "output_type": "display_data",
          "data": {
            "image/png": "[encoded data removed]",
            "text/plain": [
              "<Figure size 576x504 with 1 Axes>"
            ]
          },
          "metadata": {
            "tags": [],
            "needs_background": "light"
          }
        }
      ]
    },
    {
      "cell_type": "code",
      "metadata": {
        "id": "-AyYcEOAwQcR"
      },
      "source": [
        ""
      ],
      "execution_count": 77,
      "outputs": []
    },
    {
      "cell_type": "markdown",
      "metadata": {
        "id": "LlGF3unIB-Za"
      },
      "source": [
        "## Baseline Model \n",
        "- Random Forest \n"
      ]
    },
    {
      "cell_type": "markdown",
      "metadata": {
        "id": "skjHocfjTTqs"
      },
      "source": [
        "### Random Forest"
      ]
    },
    {
      "cell_type": "code",
      "metadata": {
        "id": "H8yeIom1F44F"
      },
      "source": [
        "X = df.transcript_lem\n",
        "y = df.target\n",
        "# extraX = "
      ],
      "execution_count": 156,
      "outputs": []
    },
    {
      "cell_type": "code",
      "metadata": {
        "id": "3VmZq5yFJPXc",
        "colab": {
          "base_uri": "https://localhost:8080/"
        },
        "outputId": "d091181e-3ab3-4760-ead9-2cd8001f1d8c"
      },
      "source": [
        "from collections import Counter\n",
        "Counter(y)\n",
        "# array([1152, 1315])"
      ],
      "execution_count": 157,
      "outputs": [
        {
          "output_type": "execute_result",
          "data": {
            "text/plain": [
              "Counter({0: 1152, 1: 1315})"
            ]
          },
          "metadata": {
            "tags": []
          },
          "execution_count": 157
        }
      ]
    },
    {
      "cell_type": "code",
      "metadata": {
        "id": "yo8k50YOEEEi"
      },
      "source": [
        "tfidf = TfidfVectorizer()\n",
        "X = tfidf.fit_transform(X)"
      ],
      "execution_count": 158,
      "outputs": []
    },
    {
      "cell_type": "code",
      "metadata": {
        "id": "NY_DoK0DZuD_"
      },
      "source": [
        "X_train, X_test, y_train, y_test = train_test_split(X, y, test_size = 0.20)"
      ],
      "execution_count": 159,
      "outputs": []
    },
    {
      "cell_type": "code",
      "metadata": {
        "colab": {
          "base_uri": "https://localhost:8080/"
        },
        "id": "G6rSr3TMoyaS",
        "outputId": "201a47da-cb6b-410f-f216-8f736d7e4dbc"
      },
      "source": [
        "X.shape"
      ],
      "execution_count": 160,
      "outputs": [
        {
          "output_type": "execute_result",
          "data": {
            "text/plain": [
              "(2467, 97248)"
            ]
          },
          "metadata": {
            "tags": []
          },
          "execution_count": 160
        }
      ]
    },
    {
      "cell_type": "code",
      "metadata": {
        "id": "gmChN6uuZuGO",
        "colab": {
          "base_uri": "https://localhost:8080/"
        },
        "outputId": "b2c245a3-aa9d-43d1-cfb9-21ddfcc707db"
      },
      "source": [
        "X_train.shape, X_test.shape, y_train.shape, y_test.shape"
      ],
      "execution_count": 161,
      "outputs": [
        {
          "output_type": "execute_result",
          "data": {
            "text/plain": [
              "((1973, 97248), (494, 97248), (1973,), (494,))"
            ]
          },
          "metadata": {
            "tags": []
          },
          "execution_count": 161
        }
      ]
    },
    {
      "cell_type": "code",
      "metadata": {
        "id": "QlSH1GBAB9nn",
        "colab": {
          "base_uri": "https://localhost:8080/"
        },
        "outputId": "1c71ee87-e0c3-4ad9-baa3-7804d5b40f7b"
      },
      "source": [
        "# Base Line Model RandomForestClassifier\n",
        "base_model = RandomForestClassifier() # oob_score=True\n",
        "base_model.fit(X_train, y_train)"
      ],
      "execution_count": 162,
      "outputs": [
        {
          "output_type": "execute_result",
          "data": {
            "text/plain": [
              "RandomForestClassifier(bootstrap=True, ccp_alpha=0.0, class_weight=None,\n",
              "                       criterion='gini', max_depth=None, max_features='auto',\n",
              "                       max_leaf_nodes=None, max_samples=None,\n",
              "                       min_impurity_decrease=0.0, min_impurity_split=None,\n",
              "                       min_samples_leaf=1, min_samples_split=2,\n",
              "                       min_weight_fraction_leaf=0.0, n_estimators=100,\n",
              "                       n_jobs=None, oob_score=False, random_state=None,\n",
              "                       verbose=0, warm_start=False)"
            ]
          },
          "metadata": {
            "tags": []
          },
          "execution_count": 162
        }
      ]
    },
    {
      "cell_type": "code",
      "metadata": {
        "id": "7yCGxzGidlMX"
      },
      "source": [
        "# base_model.oob_score_"
      ],
      "execution_count": 163,
      "outputs": []
    },
    {
      "cell_type": "code",
      "metadata": {
        "id": "V6QH5K0gB9qG",
        "colab": {
          "base_uri": "https://localhost:8080/",
          "height": 283
        },
        "outputId": "1a84ea97-04d2-4e8a-aedd-8f821e9fa1cf"
      },
      "source": [
        "predictions = base_model.predict(X_test)\n",
        "base_matrix = confusion_matrix(y_test, predictions)\n",
        "\n",
        "fig, ax = plt.subplots()\n",
        "# sn.color_palette(\"light:b\", as_cmap=True)\n",
        "print(sn.heatmap(base_matrix, annot=True, ax=ax, fmt='g', cmap='YlGnBu'))"
      ],
      "execution_count": 164,
      "outputs": [
        {
          "output_type": "stream",
          "text": [
            "AxesSubplot(0.125,0.125;0.62x0.755)\n"
          ],
          "name": "stdout"
        },
        {
          "output_type": "display_data",
          "data": {
            "image/png": "[encoded data removed]",
            "text/plain": [
              "<Figure size 432x288 with 2 Axes>"
            ]
          },
          "metadata": {
            "tags": [],
            "needs_background": "light"
          }
        }
      ]
    },
    {
      "cell_type": "code",
      "metadata": {
        "id": "3OFYQ6I8Bviw"
      },
      "source": [
        "## Lots of False Negatives, Type I Errors - Class 0 Recall very low"
      ],
      "execution_count": 165,
      "outputs": []
    },
    {
      "cell_type": "code",
      "metadata": {
        "id": "AmO1JA0HB9tK",
        "colab": {
          "base_uri": "https://localhost:8080/"
        },
        "outputId": "40630503-13ab-4a19-8428-a3e36594ca3b"
      },
      "source": [
        "print(classification_report(y_test, predictions))\n",
        "print('Accuracy: {}'.format(accuracy_score(y_test, predictions)))"
      ],
      "execution_count": 166,
      "outputs": [
        {
          "output_type": "stream",
          "text": [
            "              precision    recall  f1-score   support\n",
            "\n",
            "           0       0.59      0.37      0.45       236\n",
            "           1       0.57      0.77      0.65       258\n",
            "\n",
            "    accuracy                           0.58       494\n",
            "   macro avg       0.58      0.57      0.55       494\n",
            "weighted avg       0.58      0.58      0.56       494\n",
            "\n",
            "Accuracy: 0.5769230769230769\n"
          ],
          "name": "stdout"
        }
      ]
    },
    {
      "cell_type": "code",
      "metadata": {
        "id": "NIDhDQtbB9w-"
      },
      "source": [
        ""
      ],
      "execution_count": 166,
      "outputs": []
    },
    {
      "cell_type": "markdown",
      "metadata": {
        "id": "7vinASc7TzO1"
      },
      "source": [
        "#### Feature Importance"
      ]
    },
    {
      "cell_type": "code",
      "metadata": {
        "id": "IFfByI21VEQ4"
      },
      "source": [
        "# Future Importance\n",
        "feat_imp = base_model.feature_importances_\n",
        "sorted_imp = np.argsort(feat_imp)[-20:]\n",
        "tf_feat_names = tfidf.get_feature_names() \n",
        "tf_feat_names = np.array(tf_feat_names)\n",
        "feat_imp_words = tf_feat_names[np.argsort(feat_imp)][-20:]\n",
        "\n",
        "ft_dict = {'feature_names':tf_feat_names,'feature_importance':feat_imp}\n",
        "data = pd.DataFrame(ft_dict)\n",
        "data = data.sort_values(by='feature_importance', ascending=False)"
      ],
      "execution_count": 91,
      "outputs": []
    },
    {
      "cell_type": "code",
      "metadata": {
        "id": "ijvXsfewB93t",
        "colab": {
          "base_uri": "https://localhost:8080/",
          "height": 520
        },
        "outputId": "faff73a3-9e6d-48eb-f368-4245e7400561"
      },
      "source": [
        "# Plot the feature importance - gini importance\n",
        "feat_scores = pd.Series(base_model.feature_importances_, index=data.feature_names)\n",
        "feat_scores = data.sort_values(by='feature_importance', ascending=False)[:20]\n",
        "\n",
        "ax = feat_scores.plot(kind='barh', figsize=(10,8), color='b')\n",
        "ax.set_title('Default Feature Importance', fontsize=15)\n",
        "ax.set_xlabel('Relative Importance', fontsize=15)\n",
        "ax.set_yticklabels(data.feature_names, fontsize=13)\n",
        "plt.show()"
      ],
      "execution_count": 167,
      "outputs": [
        {
          "output_type": "display_data",
          "data": {
            "image/png": "[encoded data removed]",
            "text/plain": [
              "<Figure size 720x576 with 1 Axes>"
            ]
          },
          "metadata": {
            "tags": [],
            "needs_background": "light"
          }
        }
      ]
    },
    {
      "cell_type": "code",
      "metadata": {
        "id": "DLHJpRzxbUI-"
      },
      "source": [
        ""
      ],
      "execution_count": 92,
      "outputs": []
    },
    {
      "cell_type": "code",
      "metadata": {
        "id": "TnmtAWezVokw",
        "colab": {
          "base_uri": "https://localhost:8080/",
          "height": 279
        },
        "outputId": "56276104-c1bd-4018-f618-4e13635a9891"
      },
      "source": [
        "from sklearn.metrics import  plot_roc_curve\n",
        "\n",
        "fig, ax = plt.subplots()\n",
        "\n",
        "base_model.fit(X_train,y_train)\n",
        "plot_roc_curve(base_model, X_test, y_test, ax=ax, name='ROC Baseline Model')\n",
        "plt.show()"
      ],
      "execution_count": 93,
      "outputs": [
        {
          "output_type": "display_data",
          "data": {
            "image/png": "[encoded data removed]",
            "text/plain": [
              "<Figure size 432x288 with 1 Axes>"
            ]
          },
          "metadata": {
            "tags": [],
            "needs_background": "light"
          }
        }
      ]
    },
    {
      "cell_type": "code",
      "metadata": {
        "id": "nrXSSsjfgAxf"
      },
      "source": [
        ""
      ],
      "execution_count": null,
      "outputs": []
    },
    {
      "cell_type": "markdown",
      "metadata": {
        "id": "gthxgOD2gBQL"
      },
      "source": [
        "##### Manual Parameter Tuning (Skipped)\n",
        "- Min_df and Max_df"
      ]
    },
    {
      "cell_type": "code",
      "metadata": {
        "id": "qJrIMNhmzTv1"
      },
      "source": [
        "# import decimal\n",
        "# def float_range(start, stop, step):\n",
        "#   while start < stop:\n",
        "#     yield float(start)\n",
        "#     start += decimal.Decimal(step)\n",
        "\n",
        "# stepup = list(float_range(0, 0.0301, '0.001'))\n",
        "# # stepup"
      ],
      "execution_count": 94,
      "outputs": []
    },
    {
      "cell_type": "code",
      "metadata": {
        "id": "sShRxthgzTs2"
      },
      "source": [
        "# def mod(X, y, lst_step=stepup):\n",
        "#   for i in stepup:\n",
        "#     X = df.transcript_lem\n",
        "#     y = df.target\n",
        "#     tfidf = TfidfVectorizer(min_df=i)\n",
        "#     X = tfidf.fit_transform(X)\n",
        "#     X_train, X_test, y_train, y_test = train_test_split(X, y, test_size = 0.25)\n",
        "\n",
        "#     base_model = RandomForestClassifier()\n",
        "#     base_model.fit(X_train, y_train)\n",
        "#     predictions = base_model.predict(X_test)\n",
        "#     base_matrix = confusion_matrix(y_test, predictions)\n",
        "\n",
        "#     # fig, ax = plt.subplots()\n",
        "#     # print(sn.heatmap(base_matrix, annot=True, ax=ax, fmt='g'))\n",
        "#     # print(classification_report(y_test, predictions))\n",
        "#     print('Accuracy: {}, with min_df at {}'.format(accuracy_score(y_test, predictions), i))"
      ],
      "execution_count": 95,
      "outputs": []
    },
    {
      "cell_type": "code",
      "metadata": {
        "id": "Du6Ie9W4gqcj"
      },
      "source": [
        "# stepup = [0.01, 0.02, 0.023, 0.03]"
      ],
      "execution_count": 96,
      "outputs": []
    },
    {
      "cell_type": "code",
      "metadata": {
        "id": "CqctQoclBB14"
      },
      "source": [
        "# mod(X, y, stepup)  # 0.62955 at 0.01 a close second with 0.02; 0.6396 with min_df 0.03 and close 0.023"
      ],
      "execution_count": 97,
      "outputs": []
    },
    {
      "cell_type": "code",
      "metadata": {
        "id": "sFGhpVbUfHgD"
      },
      "source": [
        "# from numpy import arange\n",
        "# stepdown = []\n",
        "# for i in arange(1.0, -0.00001, -0.005):\n",
        "#   stepdown.append(i)\n",
        "\n",
        "# # stepdown"
      ],
      "execution_count": 98,
      "outputs": []
    },
    {
      "cell_type": "code",
      "metadata": {
        "id": "b56xebXbBMvx"
      },
      "source": [
        "# def mod_maxdf(X, y, lst_step=stepdown):\n",
        "#   for i in stepdown:\n",
        "#     X = df.transcript_lem\n",
        "#     y = df.target\n",
        "#     tfidf = TfidfVectorizer(max_df=i)\n",
        "#     X = tfidf.fit_transform(X)\n",
        "#     X_train, X_test, y_train, y_test = train_test_split(X, y, test_size = 0.25)\n",
        "\n",
        "#     base_model = RandomForestClassifier(n_jobs=-1)\n",
        "#     base_model.fit(X_train, y_train)\n",
        "#     predictions = base_model.predict(X_test)\n",
        "#     base_matrix = confusion_matrix(y_test, predictions)\n",
        "\n",
        "#     # fig, ax = plt.subplots()\n",
        "#     # print(sn.heatmap(base_matrix, annot=True, ax=ax, fmt='g'))\n",
        "#     # print(classification_report(y_test, predictions))\n",
        "#     print('Accuracy: {}, with max_df at {}'.format(accuracy_score(y_test, predictions), i))"
      ],
      "execution_count": 99,
      "outputs": []
    },
    {
      "cell_type": "code",
      "metadata": {
        "id": "UOKVi-I3BM3i"
      },
      "source": [
        "# mod_maxdf(X, y)  # first list above 0.64 [0.994, 0.975, 0.96, 0.95, 0.912, 0.87, 0.72, 0.674, 0.565, 0.47, 0.395, 0.31, 0.276, 0.246, 0.228, 0.2, 0.167, 0.08],\n",
        "                 # second list above 0.61 [1.0, 0.992, 0.982, 0.962, 0.874, 0.834, 0.806, 0.7899, 0.622, 0.436]"
      ],
      "execution_count": 100,
      "outputs": []
    },
    {
      "cell_type": "code",
      "metadata": {
        "id": "ixSQZjRHBM5W"
      },
      "source": [
        ""
      ],
      "execution_count": 100,
      "outputs": []
    },
    {
      "cell_type": "code",
      "metadata": {
        "id": "OLszLK4knPmv"
      },
      "source": [
        ""
      ],
      "execution_count": 100,
      "outputs": []
    },
    {
      "cell_type": "markdown",
      "metadata": {
        "id": "mjORCciyj4mw"
      },
      "source": [
        "#### GridSearchCV Tuning TF-IDF\n",
        "- TFIDF Vectorizer\n",
        "  - Cross Validation \n",
        "  - N-grams"
      ]
    },
    {
      "cell_type": "code",
      "metadata": {
        "id": "NmYVFRIl_RWn"
      },
      "source": [
        "# Methods\n",
        "##########\n",
        "# min_df, max_df\n",
        "# Gain Threshold - Information Gain - \"better splits\" \n",
        "# Kfold - Cross Validation\n",
        "# ngrams, stopwords\n",
        "# Model Paremeter"
      ],
      "execution_count": 100,
      "outputs": []
    },
    {
      "cell_type": "code",
      "metadata": {
        "id": "ShJCrq0R_RZ4"
      },
      "source": [
        "import decimal\n",
        "from numpy import arange\n",
        "\n",
        "stepdown = []\n",
        "for i in arange(1.0, -0.00001, -0.005):\n",
        "  stepdown.append(round(i, 6))\n",
        "\n",
        "def float_range(start, stop, step):\n",
        "  while start < stop:\n",
        "    yield float(start)\n",
        "    start += decimal.Decimal(step)\n",
        "\n",
        "stepup = list(float_range(0, 0.065, '0.002'))\n",
        "# stepup"
      ],
      "execution_count": 101,
      "outputs": []
    },
    {
      "cell_type": "code",
      "metadata": {
        "id": "-kQtL6EN9q3_"
      },
      "source": [
        "# min_df = [0.01, 0.02, 0.023, 0.03]\n",
        "# max_df = [0.994, 0.975, 0.96, 0.95, 0.912, 0.87, 0.72, 0.674, 0.565, 0.47, 0.395, 0.31, 0.276, 0.246, 0.228, 0.2, 0.167, 0.08, 1.0, 0.992, 0.982, 0.962, 0.874, 0.834, 0.806, 0.7899, 0.622, 0.436]\n",
        "\n",
        "# Best Performing param for TFIDFVec: \n",
        "# {'vect__max_df': 0.29, 'vect__min_df': 0.02, 'vect__ngram_range': (1, 3), 'vect__norm': 'l2', 'vect__smooth_idf': True, 'vect__sublinear_tf': True, 'vect__use_idf': False}\n",
        "# 0.7095094666990329\n",
        "\n",
        "# {'vect__max_df': 0.29, 'vect__min_df': 0.018} and {'vect__max_df': 0.228, 'vect__min_df': 0.02} with 0.66\n",
        "\n",
        "min_df = [0.018, 0.02] #0.00005 \n",
        "max_df = [0.29, 0.228]\n",
        "norm = ['l1', 'l2']\n",
        "use_idf = [True, False]\n",
        "smooth_idf = [True, False]\n",
        "sublinear_tf = [True, False]\n",
        "ngram_range = [(1, 1), (1, 2), (2, 2)] # when changing n grams min_df must also change \n",
        "# cv = [0, 5, 19, 25]"
      ],
      "execution_count": 102,
      "outputs": []
    },
    {
      "cell_type": "code",
      "metadata": {
        "colab": {
          "base_uri": "https://localhost:8080/"
        },
        "id": "KtdWcnGIG7ci",
        "outputId": "37ceb412-af55-40b8-f04b-f766a64bf059"
      },
      "source": [
        "x = df.transcript_lem\n",
        "Y = df.target\n",
        "\n",
        "x_train, x_test, Y_train, Y_test = train_test_split(x, Y, test_size = 0.25)\n",
        "\n",
        "# TFIDF Vectorizer \n",
        "pipeline = Pipeline([\n",
        "           ('vect', TfidfVectorizer()), \n",
        "           ('clf', RandomForestClassifier())], verbose=True)\n",
        "\n",
        "parameters = [\n",
        "{\n",
        "    # 'vect__min_df': min_df,\n",
        "    # 'vect__max_df': max_df,\n",
        "    'vect__norm': norm, \n",
        "    'vect__use_idf': use_idf, \n",
        "    'vect__smooth_idf': smooth_idf,\n",
        "    'vect__sublinear_tf': sublinear_tf,\n",
        "    'vect__ngram_range': ngram_range\n",
        "}, \n",
        "{}]\n",
        "\n",
        "# Instantiate the grid search model\n",
        "grid_search = GridSearchCV(pipeline, parameters, n_jobs=-1, scoring='f1') #'f1', 'recall' #cv=5,9,19,25\n",
        "\n",
        "# Fit the grid search to the data\n",
        "grid_search.fit(x_train, Y_train)\n",
        "print(grid_search.best_estimator_)\n",
        "print(grid_search.best_params_)\n",
        "print(grid_search.best_score_)\n",
        "# print(grid_search.cv_results_)"
      ],
      "execution_count": 104,
      "outputs": [
        {
          "output_type": "stream",
          "text": [
            "[Pipeline] .............. (step 1 of 2) Processing vect, total=   8.7s\n",
            "[Pipeline] ............... (step 2 of 2) Processing clf, total=  33.7s\n",
            "Pipeline(memory=None,\n",
            "         steps=[('vect',\n",
            "                 TfidfVectorizer(analyzer='word', binary=False,\n",
            "                                 decode_error='strict',\n",
            "                                 dtype=<class 'numpy.float64'>,\n",
            "                                 encoding='utf-8', input='content',\n",
            "                                 lowercase=True, max_df=1.0, max_features=None,\n",
            "                                 min_df=1, ngram_range=(1, 2), norm='l2',\n",
            "                                 preprocessor=None, smooth_idf=False,\n",
            "                                 stop_words=None, strip_accents=None,\n",
            "                                 sublinear_tf=False,\n",
            "                                 token_pattern='...\n",
            "                 RandomForestClassifier(bootstrap=True, ccp_alpha=0.0,\n",
            "                                        class_weight=None, criterion='gini',\n",
            "                                        max_depth=None, max_features='auto',\n",
            "                                        max_leaf_nodes=None, max_samples=None,\n",
            "                                        min_impurity_decrease=0.0,\n",
            "                                        min_impurity_split=None,\n",
            "                                        min_samples_leaf=1, min_samples_split=2,\n",
            "                                        min_weight_fraction_leaf=0.0,\n",
            "                                        n_estimators=100, n_jobs=None,\n",
            "                                        oob_score=False, random_state=None,\n",
            "                                        verbose=0, warm_start=False))],\n",
            "         verbose=True)\n",
            "{'vect__ngram_range': (1, 2), 'vect__norm': 'l2', 'vect__smooth_idf': False, 'vect__sublinear_tf': False, 'vect__use_idf': False}\n",
            "0.6981201991802125\n"
          ],
          "name": "stdout"
        }
      ]
    },
    {
      "cell_type": "code",
      "metadata": {
        "id": "LLLTXhpnMRTZ"
      },
      "source": [
        ""
      ],
      "execution_count": 104,
      "outputs": []
    },
    {
      "cell_type": "markdown",
      "metadata": {
        "id": "n-Xxo4RSnRUp"
      },
      "source": [
        "##### Score Value Storage - GridSearchCV TF-IDF"
      ]
    },
    {
      "cell_type": "code",
      "metadata": {
        "id": "gtrMReTSV6DA"
      },
      "source": [
        "##################################\n",
        "# Ngrams integrated\n",
        "\n",
        "# {'vect__max_df': 0.228, 'vect__min_df': 0.02, 'vect__ngram_range': (1, 1), 'vect__norm': 'l2', 'vect__smooth_idf': True, 'vect__sublinear_tf': True, 'vect__use_idf': True}\n",
        "# 0.6340461350639337\n",
        "\n",
        "# {'vect__max_df': 0.228, 'vect__min_df': 0.02, 'vect__ngram_range': (1, 1), 'vect__norm': 'l2', 'vect__smooth_idf': False, 'vect__sublinear_tf': True, 'vect__use_idf': True}\n",
        "# 0.6391261324937352\n",
        "\n",
        "##################################\n",
        "\n",
        "# {'vect__max_df': 0.228, 'vect__min_df': 0.018, 'vect__ngram_range': (1, 2), 'vect__norm': 'l2', 'vect__smooth_idf': True, 'vect__sublinear_tf': True, 'vect__use_idf': True}\n",
        "# 0.6869519591495102 at 'f1'\n",
        "\n",
        "# {'vect__max_df': 0.228, 'vect__min_df': 0.02, 'vect__ngram_range': (1, 1), 'vect__norm': 'l1', 'vect__smooth_idf': False, 'vect__sublinear_tf': False, 'vect__use_idf': False}\n",
        "# 0.688607527389253 at 'f1' \n",
        "\n",
        "# {'vect__max_df': 0.228, 'vect__min_df': 0.018, 'vect__ngram_range': (1, 1), 'vect__norm': 'l2', 'vect__smooth_idf': True, 'vect__sublinear_tf': False, 'vect__use_idf': True}\n",
        "# 0.6870945479576246\n",
        "\n",
        "# {'vect__max_df': 0.29, 'vect__min_df': 0.02, 'vect__ngram_range': (1, 1), 'vect__norm': 'l1', 'vect__smooth_idf': True, 'vect__sublinear_tf': True, 'vect__use_idf': False}\n",
        "# 0.6845197057043328\n",
        "\n",
        "# {'vect__max_df': 0.29, 'vect__min_df': 0.018, 'vect__ngram_range': (1, 2), 'vect__norm': 'l2', 'vect__smooth_idf': True, 'vect__sublinear_tf': False, 'vect__use_idf': True}\n",
        "# 0.6901509836994344\n",
        "\n",
        "# {'vect__max_df': 0.228, 'vect__min_df': 0.018, 'vect__ngram_range': (1, 2), 'vect__norm': 'l1', 'vect__smooth_idf': False, 'vect__sublinear_tf': False, 'vect__use_idf': False}\n",
        "# 0.6802163306513962\n",
        "\n",
        "# {'vect__max_df': 0.228, 'vect__min_df': 0.018, 'vect__ngram_range': (2, 2), 'vect__norm': 'l2', 'vect__smooth_idf': True, 'vect__sublinear_tf': True, 'vect__use_idf': True}\n",
        "# 0.6621582690494293\n",
        "\n",
        "# {'vect__max_df': 0.29, 'vect__min_df': 0.02, 'vect__ngram_range': (1, 3), 'vect__norm': 'l2', 'vect__smooth_idf': True, 'vect__sublinear_tf': True, 'vect__use_idf': False}\n",
        "# 0.7095094666990329\n",
        "\n",
        "# {'vect__max_df': 0.228, 'vect__min_df': 0.02, 'vect__ngram_range': (1, 3), 'vect__norm': 'l2', 'vect__smooth_idf': False, 'vect__sublinear_tf': True, 'vect__use_idf': True}\n",
        "# 0.6872420310158359\n",
        "\n",
        "# {'vect__max_df': 0.29, 'vect__ngram_range': (1, 1), 'vect__norm': 'l2', 'vect__smooth_idf': False, 'vect__sublinear_tf': False, 'vect__use_idf': True}\n",
        "# 0.6887223160034519\n",
        "\n",
        "# {'vect__ngram_range': (1, 1), 'vect__norm': 'l1', 'vect__smooth_idf': True, 'vect__sublinear_tf': True, 'vect__use_idf': True}\n",
        "# 0.6775539204421807"
      ],
      "execution_count": 105,
      "outputs": []
    },
    {
      "cell_type": "markdown",
      "metadata": {
        "id": "6Jzb6JRgnjSn"
      },
      "source": [
        "#### GridSearch Tuning \n",
        "- CountVectorizer"
      ]
    },
    {
      "cell_type": "code",
      "metadata": {
        "id": "etXOZKoZt9lT"
      },
      "source": [
        "# import decimal\n",
        "# from numpy import arange\n",
        "\n",
        "# stepdown = []\n",
        "# for i in arange(1.0, -0.00001, -0.005):\n",
        "#   stepdown.append(round(i, 6))\n",
        "\n",
        "# def float_range(start, stop, step):\n",
        "#   while start < stop:\n",
        "#     yield float(start)\n",
        "#     start += decimal.Decimal(step)\n",
        "\n",
        "# stepup = list(float_range(0, 0.02, '0.0025'))\n",
        "# # stepup"
      ],
      "execution_count": 106,
      "outputs": []
    },
    {
      "cell_type": "code",
      "metadata": {
        "id": "yil--P0mXORC"
      },
      "source": [
        "# def mod(x, Y, lst_step=stepup):\n",
        "#   for i in stepup:\n",
        "#     x = df.transcript_lem\n",
        "#     y = df.target\n",
        "#     vec = CountVectorizer(ngram_range=(1, 2), min_df=i)\n",
        "#     x = vec.fit_transform(x)\n",
        "#     x_train, x_test, Y_train, Y_test = train_test_split(x, Y, test_size = 0.25)\n",
        "\n",
        "#     model = RandomForestClassifier()\n",
        "#     model.fit(x_train, Y_train)\n",
        "#     pred = model.predict(x_test)\n",
        "#     matrix = confusion_matrix(y_test, pred)\n",
        "\n",
        "#     # fig, ax = plt.subplots()\n",
        "#     # print(sn.heatmap(base_matrix, annot=True, ax=ax, fmt='g'))\n",
        "#     # print(classification_report(y_test, predictions))\n",
        "#     print('Accuracy: {}, with min_df at {}'.format(accuracy_score(Y_test, pred), i))"
      ],
      "execution_count": 107,
      "outputs": []
    },
    {
      "cell_type": "code",
      "metadata": {
        "id": "mxBF18vLXOTP"
      },
      "source": [
        "# mod(x, Y) # for ngram_range(1, 3) optimal range 0.0 to 0.055 or 0.065 at peak acc: 0.638\n",
        "          # for ngram_range(1, 2) optimal range 0.0 to 0.2 at peak acc: 0.612\n",
        "          # for ngram_range(1, 2) optimal range 0.0 to 0.1 at peak acc: 0.64\n",
        "          # for ngram_range(1, 2) optimal range 0.0 to 0.02 at peak acc: 0.62"
      ],
      "execution_count": 108,
      "outputs": []
    },
    {
      "cell_type": "code",
      "metadata": {
        "id": "PcdvHXZpSU8o"
      },
      "source": [
        "# x = df.transcript_lem\n",
        "# Y = df.target\n",
        "\n",
        "# x_train, x_test, Y_train, Y_test = train_test_split(x, Y, test_size = 0.25)\n",
        "\n",
        "# pipeline_vec = Pipeline([\n",
        "#            ('vect', CountVectorizer(stop_words='english', ngram_range=(1, 2), min_df=0.1)), \n",
        "#            ('clf', RandomForestClassifier())], verbose=True)\n",
        "\n",
        "# parameters_vec = [\n",
        "# {     \n",
        "#             'vect__ngram_range': [(1, 2), (1, 3)],\n",
        "#             'vect__min_df': stepdown\n",
        "# }, \n",
        "# {}]\n",
        "\n",
        "# # Instantiate the grid search model\n",
        "# grid_search_vec = GridSearchCV(pipeline_vec, parameters_vec, n_jobs=-1, scoring='f1') #'recall'\n",
        "\n",
        "# # Fit the grid search to the data\n",
        "# grid_search_vec.fit(x_train, Y_train)\n",
        "# print(grid_search_vec.best_estimator_)\n",
        "# print(grid_search_vec.best_params_)\n",
        "# print(grid_search_vec.best_score_)"
      ],
      "execution_count": 109,
      "outputs": []
    },
    {
      "cell_type": "markdown",
      "metadata": {
        "id": "e8MyCnVV9rED"
      },
      "source": [
        "##### Score Value Storage - GridSearchCV CountVec"
      ]
    },
    {
      "cell_type": "code",
      "metadata": {
        "id": "qRLxnhoCZLwM"
      },
      "source": [
        "##################################\n",
        "# Ngrams integrated\n",
        "\n",
        "# {'vect__ngram_range': (1, 2)}\n",
        "# 0.7078923570106946\n",
        "\n",
        "# {'vect__ngram_range': (2, 3)}\n",
        "# 0.6957201287547469\n",
        "\n",
        "# {'vect__ngram_range': (1, 3)}\n",
        "# 0.6995404529092819\n",
        "\n",
        "# {'vect__ngram_range': (2, 3)}\n",
        "# 0.6976036377111458\n",
        "\n",
        "# {'vect__ngram_range': (1, 3)}\n",
        "# 0.7009485634369927\n",
        "\n",
        "# {'vect__ngram_range': (1, 3)}\n",
        "# 0.6994263083675284"
      ],
      "execution_count": 110,
      "outputs": []
    },
    {
      "cell_type": "markdown",
      "metadata": {
        "id": "svouq6GiO3A3"
      },
      "source": [
        "#### Tuning Best Parameters**"
      ]
    },
    {
      "cell_type": "code",
      "metadata": {
        "id": "AsCIiObZPG9P"
      },
      "source": [
        "# Methods\n",
        "##########\n",
        "# min_df, max_df - drop df below or above threshold - yes\n",
        "# Gain Threshold - Information Gain - \"better splits\" \n",
        "# Kfold - cv: Cross Validation - yes\n",
        "# ngrams, stopwords - yes\n",
        "# Model Paremeter"
      ],
      "execution_count": 111,
      "outputs": []
    },
    {
      "cell_type": "code",
      "metadata": {
        "id": "XvYl4PBaSVAa"
      },
      "source": [
        "# Top Performing Parameters\n",
        "\n",
        "# {'vect__max_df': 0.228, 'vect__min_df': 0.02, 'vect__ngram_range': (1, 1), 'vect__norm': 'l1', 'vect__smooth_idf': False, 'vect__sublinear_tf': False, 'vect__use_idf': False}\n",
        "# 0.6906901426749745\n",
        "# {'vect__max_df': 0.29, 'vect__min_df': 0.02, 'vect__ngram_range': (1, 3), 'vect__norm': 'l2', 'vect__smooth_idf': True, 'vect__sublinear_tf': True, 'vect__use_idf': False}\n",
        "# 0.7095094666990329\n",
        "\n",
        "top_performing_param_tdidf = {\n",
        "                        # 'min_df': 0.02,\n",
        "                        # 'max_df': 0.228,\n",
        "                        'norm': 'l1', \n",
        "                        'smooth_idf': False, \n",
        "                        'sublinear_tf': False, \n",
        "                        'use_idf': False, \n",
        "                        'ngram_range': (1, 1)\n",
        "                        }\n"
      ],
      "execution_count": 199,
      "outputs": []
    },
    {
      "cell_type": "markdown",
      "metadata": {
        "id": "r8PAWLVZZXd-"
      },
      "source": [
        "##### Test Size and SelectKBest Tuning"
      ]
    },
    {
      "cell_type": "code",
      "metadata": {
        "id": "ZrvFmqCFSVDy"
      },
      "source": [
        "x = df.transcript_lem\n",
        "Y = df.target\n",
        "# print(x.shape)\n",
        "# Best Performing parameters for TFIDF and SelectKBest\n",
        "tfidf = TfidfVectorizer(top_performing_param_tdidf) #  all False and (1, 2)\n",
        "x = tfidf.fit_transform(x)\n",
        "\n",
        "# Perform feature selection\n",
        "x = SelectKBest(mutual_info_classif).fit_transform(x, Y)\n",
        "\n",
        "# print(x.shape)\n",
        "x_train, x_test, Y_train, Y_test = train_test_split(x, Y, test_size = 0.25)"
      ],
      "execution_count": 200,
      "outputs": []
    },
    {
      "cell_type": "code",
      "metadata": {
        "colab": {
          "base_uri": "https://localhost:8080/"
        },
        "id": "S65vKA9Eoe5P",
        "outputId": "847d4846-4cdc-4078-d5ad-26cb9ac3ac1c"
      },
      "source": [
        "x_train.shape, x_test.shape, Y_train.shape, Y_test.shape"
      ],
      "execution_count": 201,
      "outputs": [
        {
          "output_type": "execute_result",
          "data": {
            "text/plain": [
              "((1850, 10), (617, 10), (1850,), (617,))"
            ]
          },
          "metadata": {
            "tags": []
          },
          "execution_count": 201
        }
      ]
    },
    {
      "cell_type": "code",
      "metadata": {
        "id": "Lu6L9KYNpIQ4"
      },
      "source": [
        "# fit = k_best.fit(x_train, Y_train)\n",
        "\n",
        "# u_features = fit.transform(x_train)"
      ],
      "execution_count": 202,
      "outputs": []
    },
    {
      "cell_type": "code",
      "metadata": {
        "colab": {
          "base_uri": "https://localhost:8080/"
        },
        "id": "ubT4caN9V6Fr",
        "outputId": "28010677-d2de-4d43-ecea-414c8a7055ca"
      },
      "source": [
        "# Base Line Model RandomForestClassifier and Tuned TfidfVectorizer param with feature selection\n",
        "tuning_model = RandomForestClassifier(n_jobs=-1) # \n",
        "tuning_model.fit(x_train, Y_train)"
      ],
      "execution_count": 203,
      "outputs": [
        {
          "output_type": "execute_result",
          "data": {
            "text/plain": [
              "RandomForestClassifier(bootstrap=True, ccp_alpha=0.0, class_weight=None,\n",
              "                       criterion='gini', max_depth=None, max_features='auto',\n",
              "                       max_leaf_nodes=None, max_samples=None,\n",
              "                       min_impurity_decrease=0.0, min_impurity_split=None,\n",
              "                       min_samples_leaf=1, min_samples_split=2,\n",
              "                       min_weight_fraction_leaf=0.0, n_estimators=100,\n",
              "                       n_jobs=-1, oob_score=False, random_state=None, verbose=0,\n",
              "                       warm_start=False)"
            ]
          },
          "metadata": {
            "tags": []
          },
          "execution_count": 203
        }
      ]
    },
    {
      "cell_type": "code",
      "metadata": {
        "id": "ccFeGYo5erdv"
      },
      "source": [
        "# from sklearn.model_selection import cross_val_score\n",
        "# from numpy import mean, absolute, sqrt\n",
        "\n",
        "# cv = KFold(n_splits=20, shuffle=True)\n",
        "# score = cross_val_score(tuning_model, x, Y, cv=cv, n_jobs=-1)\n",
        "# print(score)\n",
        "# print(mean(absolute(score)))\n",
        "# print(sqrt(mean(absolute(score))))"
      ],
      "execution_count": 204,
      "outputs": []
    },
    {
      "cell_type": "code",
      "metadata": {
        "colab": {
          "base_uri": "https://localhost:8080/",
          "height": 301
        },
        "id": "ypW0qDaKV6IU",
        "outputId": "19ac27ba-1161-4175-a9d3-24c831b9a2a7"
      },
      "source": [
        "tuned_predictions = tuning_model.predict(x_test)\n",
        "tuned_matrix = confusion_matrix(Y_test, tuned_predictions)\n",
        "\n",
        "fig, ax = plt.subplots()\n",
        "print('Accuracy score: {:.4}'.format(tuning_model.score(x_test, Y_test)))\n",
        "print(sn.heatmap(tuned_matrix, annot=True, ax=ax, fmt='g', cmap='YlGnBu'))"
      ],
      "execution_count": 205,
      "outputs": [
        {
          "output_type": "stream",
          "text": [
            "Accuracy score: 0.5381\n",
            "AxesSubplot(0.125,0.125;0.62x0.755)\n"
          ],
          "name": "stdout"
        },
        {
          "output_type": "display_data",
          "data": {
            "image/png": "[encoded data removed]",
            "text/plain": [
              "<Figure size 432x288 with 2 Axes>"
            ]
          },
          "metadata": {
            "tags": [],
            "needs_background": "light"
          }
        }
      ]
    },
    {
      "cell_type": "code",
      "metadata": {
        "colab": {
          "base_uri": "https://localhost:8080/"
        },
        "id": "eKTu_kyrV6KU",
        "outputId": "2c0a7722-b897-4a05-c0d0-bac279b26c40"
      },
      "source": [
        "print(classification_report(Y_test, tuned_predictions))\n",
        "print('Accuracy: {}'.format(accuracy_score(Y_test, tuned_predictions))) \n",
        "# best accuracy 0.66 with {'vect__max_df': 0.228, 'vect__min_df': 0.02}"
      ],
      "execution_count": 206,
      "outputs": [
        {
          "output_type": "stream",
          "text": [
            "              precision    recall  f1-score   support\n",
            "\n",
            "           0       0.49      0.45      0.47       281\n",
            "           1       0.57      0.61      0.59       336\n",
            "\n",
            "    accuracy                           0.54       617\n",
            "   macro avg       0.53      0.53      0.53       617\n",
            "weighted avg       0.54      0.54      0.54       617\n",
            "\n",
            "Accuracy: 0.5380875202593193\n"
          ],
          "name": "stdout"
        }
      ]
    },
    {
      "cell_type": "code",
      "metadata": {
        "colab": {
          "base_uri": "https://localhost:8080/",
          "height": 279
        },
        "id": "s4xXkB8jV6TL",
        "outputId": "ff2e8b2b-65d0-494e-959e-b8c3daa17b9e"
      },
      "source": [
        "fig, ax = plt.subplots()\n",
        "\n",
        "base_model.fit(X_train,y_train)\n",
        "plot_roc_curve(base_model, X_test, y_test, ax=ax, name='ROC Baseline Model')\n",
        "plot_roc_curve(tuning_model, x_test, Y_test, ax=ax, name='ROC Tuned Model')\n",
        "plt.show()"
      ],
      "execution_count": 207,
      "outputs": [
        {
          "output_type": "display_data",
          "data": {
            "image/png": "[encoded data removed]",
            "text/plain": [
              "<Figure size 432x288 with 1 Axes>"
            ]
          },
          "metadata": {
            "tags": [],
            "needs_background": "light"
          }
        }
      ]
    },
    {
      "cell_type": "code",
      "metadata": {
        "id": "exBUOilPhNgb"
      },
      "source": [
        ""
      ],
      "execution_count": null,
      "outputs": []
    },
    {
      "cell_type": "markdown",
      "metadata": {
        "id": "TJq98fJbhN4m"
      },
      "source": [
        "#### Tuning Best Parameters***"
      ]
    },
    {
      "cell_type": "code",
      "metadata": {
        "id": "kfPsISXH2MJS"
      },
      "source": [
        "# For Feature Importance\n",
        "x = df.transcript_lem\n",
        "Y = df.target\n",
        "\n",
        "tuned_param = {\n",
        "                        'norm': 'l1', \n",
        "                        'stop_words': 'english',\n",
        "                        'smooth_idf': False, \n",
        "                        'sublinear_tf': False, \n",
        "                        'use_idf': False, \n",
        "                        'ngram_range': (1, 2)\n",
        "                        }\n",
        "# Best Performing parameters for Count Vect \n",
        "vec = CountVectorizer(tuned_param) \n",
        "x = vec.fit_transform(x)\n",
        "\n",
        "# Perform feature selection\n",
        "x = SelectKBest(mutual_info_classif, k=100).fit_transform(x, Y)\n",
        "\n",
        "x_train, x_test, Y_train, Y_test = train_test_split(x, Y, test_size = 0.25)\n",
        "\n",
        "# Base Line Model RandomForestClassifier and countVec with bigrams param with feature reduction\n",
        "tuned_model = RandomForestClassifier(n_jobs=-1) # \n",
        "tuned_model.fit(x_train, Y_train)"
      ],
      "execution_count": null,
      "outputs": []
    },
    {
      "cell_type": "code",
      "metadata": {
        "id": "ISXIK-hyLLi-"
      },
      "source": [
        "# Future Importance for Tuned Model - CountVec\n",
        "feat_imp_tuned = tuned_model.feature_importances_\n",
        "sorted_imp_tuned = np.argsort(feat_imp_tuned)[-30:]\n",
        "tf_feat_names_tuned = vec.get_feature_names() \n",
        "tf_feat_names_tuned = np.array(tf_feat_names_tuned)\n",
        "feat_imp_words_tuned = tf_feat_names_tuned[np.argsort(feat_imp_tuned)][-30:]\n",
        "\n",
        "ft_dict_tuned = {'feature_names':tf_feat_names_tuned,'feature_importance':feat_imp_tuned}\n",
        "data_tuned = pd.DataFrame(ft_dict_tuned)\n",
        "data_tuned = data_tuned.sort_values(by='feature_importance', ascending=False)\n",
        "\n",
        "# Plot the feature importance for Tuned Model - gini importance\n",
        "feat_scores_tuned = pd.Series(tuned_model.feature_importances_, index=data_tuned.feature_names)\n",
        "feat_scores_tuned = data_tuned.sort_values(by='feature_importance', ascending=False)[:30]\n",
        "\n",
        "ax = feat_scores_tuned.plot(kind='barh', figsize=(14,10), color='b')\n",
        "ax.set_title('Tuned Feature Importance', fontsize=15)\n",
        "ax.set_xlabel('Relative Importance Tuned', fontsize=15)\n",
        "ax.set_yticklabels(data_tuned.feature_names, fontsize=13)\n",
        "plt.show()"
      ],
      "execution_count": null,
      "outputs": []
    },
    {
      "cell_type": "code",
      "metadata": {
        "colab": {
          "base_uri": "https://localhost:8080/",
          "height": 301
        },
        "id": "61Q7fAjiLLlT",
        "outputId": "52e71848-c87d-47a8-9026-c86cf82a75dd"
      },
      "source": [
        "tuned_pred = tuned_model.predict(x_test)\n",
        "tuned_matx = confusion_matrix(Y_test, tuned_pred)\n",
        "\n",
        "fig, ax = plt.subplots()\n",
        "print('Accuracy score: {:.4}'.format(tuned_model.score(x_test, Y_test)))\n",
        "print(sn.heatmap(tuned_matx, annot=True, ax=ax, fmt='g', cmap='YlGnBu'))"
      ],
      "execution_count": 171,
      "outputs": [
        {
          "output_type": "stream",
          "text": [
            "Accuracy score: 0.637\n",
            "AxesSubplot(0.125,0.125;0.62x0.755)\n"
          ],
          "name": "stdout"
        },
        {
          "output_type": "display_data",
          "data": {
            "image/png": "[encoded data removed]",
            "text/plain": [
              "<Figure size 432x288 with 2 Axes>"
            ]
          },
          "metadata": {
            "tags": [],
            "needs_background": "light"
          }
        }
      ]
    },
    {
      "cell_type": "code",
      "metadata": {
        "colab": {
          "base_uri": "https://localhost:8080/"
        },
        "id": "kUWzlQTeLLpb",
        "outputId": "ff74c183-a251-48f5-9497-bc663423eab2"
      },
      "source": [
        "print(classification_report(Y_test, tuned_pred))\n",
        "print('Accuracy: {}'.format(accuracy_score(Y_test, tuned_pred))) \n",
        "# best accuracy 0.66 with {'vect__max_df': 0.228, 'vect__min_df': 0.02}"
      ],
      "execution_count": 172,
      "outputs": [
        {
          "output_type": "stream",
          "text": [
            "              precision    recall  f1-score   support\n",
            "\n",
            "           0       0.58      0.55      0.57       265\n",
            "           1       0.68      0.70      0.69       352\n",
            "\n",
            "    accuracy                           0.64       617\n",
            "   macro avg       0.63      0.63      0.63       617\n",
            "weighted avg       0.64      0.64      0.64       617\n",
            "\n",
            "Accuracy: 0.6369529983792545\n"
          ],
          "name": "stdout"
        }
      ]
    },
    {
      "cell_type": "code",
      "metadata": {
        "id": "IUkLnYHCLLr6"
      },
      "source": [
        ""
      ],
      "execution_count": 172,
      "outputs": []
    },
    {
      "cell_type": "code",
      "metadata": {
        "id": "KEFrsts-LLu4"
      },
      "source": [
        "# # Future Importance for Tuned Model - CountVec\n",
        "# feat_imp_tuned = tuned_model.feature_importances_\n",
        "# sorted_imp_tuned = np.argsort(feat_imp_tuned)[-30:]\n",
        "# tf_feat_names_tuned = vec.get_feature_names() \n",
        "# tf_feat_names_tuned = np.array(tf_feat_names_tuned)\n",
        "# feat_imp_words_tuned = tf_feat_names_tuned[np.argsort(feat_imp_tuned)][-30:]\n",
        "\n",
        "# ft_dict_tuned = {'feature_names':tf_feat_names_tuned,'feature_importance':feat_imp_tuned}\n",
        "# data_tuned = pd.DataFrame(ft_dict_tuned)\n",
        "# data_tuned = data_tuned.sort_values(by='feature_importance', ascending=False)\n",
        "\n",
        "# # Plot the feature importance for Tuned Model - gini importance\n",
        "# feat_scores_tuned = pd.Series(tuned_model.feature_importances_, index=data_tuned.feature_names)\n",
        "# feat_scores_tuned = data_tuned.sort_values(by='feature_importance', ascending=False)[:30]\n",
        "\n",
        "# ax = feat_scores_tuned.plot(kind='barh', figsize=(14,10), color='b')\n",
        "# ax.set_title('Tuned Feature Importance', fontsize=15)\n",
        "# ax.set_xlabel('Relative Importance Tuned', fontsize=15)\n",
        "# ax.set_yticklabels(data_tuned.feature_names, fontsize=13)\n",
        "# plt.show()"
      ],
      "execution_count": 211,
      "outputs": []
    },
    {
      "cell_type": "code",
      "metadata": {
        "id": "KPV2ueK1LLx7"
      },
      "source": [
        ""
      ],
      "execution_count": null,
      "outputs": []
    },
    {
      "cell_type": "code",
      "metadata": {
        "id": "muc2pLEs2MMF"
      },
      "source": [
        ""
      ],
      "execution_count": 124,
      "outputs": []
    },
    {
      "cell_type": "markdown",
      "metadata": {
        "id": "dX6vJAXdhOjX"
      },
      "source": [
        "#### Other Misc \n",
        "- Explore other \"out of the box\" models and performance"
      ]
    },
    {
      "cell_type": "code",
      "metadata": {
        "id": "9rwbcxXFzmsU"
      },
      "source": [
        "from scipy import interp\n",
        "from sklearn.preprocessing import StandardScaler\n",
        "from sklearn.metrics import accuracy_score, f1_score, precision_score, recall_score\n",
        "\n",
        "def plot_roc(X, y, clf_class, plot_name, **kwargs):\n",
        "    scaler = StandardScaler(with_mean=False)\n",
        "    X = scaler.fit_transform(X)\n",
        "    n_splits=10\n",
        "    kf = KFold(n_splits=n_splits, shuffle=True)\n",
        "    y_prob = np.zeros((len(y),2))\n",
        "    mean_tpr = 0.0\n",
        "    mean_fpr = np.linspace(0, 1, 100)\n",
        "    all_tpr = []\n",
        "    for i, (train_index, test_index) in enumerate(kf.split(X)):\n",
        "        X_train, X_test = X[train_index], X[test_index]\n",
        "        y_train = y[train_index]\n",
        "        clf = clf_class(**kwargs)\n",
        "        clf.fit(X_train,y_train)\n",
        "        # Predict probabilities, not classes\n",
        "        y_prob[test_index] = clf.predict_proba(X_test)\n",
        "        fpr, tpr, thresholds = roc_curve(y[test_index], y_prob[test_index, 1])\n",
        "        mean_tpr += interp(mean_fpr, fpr, tpr)\n",
        "        mean_tpr[0] = 0.0\n",
        "        roc_auc = auc(fpr, tpr)\n",
        "        plt.plot(fpr, tpr, lw=1, label='ROC fold %d (area = %0.2f)' % (i, roc_auc))\n",
        "    mean_tpr /= n_splits\n",
        "    mean_tpr[-1] = 1.0\n",
        "    mean_auc = auc(mean_fpr, mean_tpr)\n",
        "    plt.plot(mean_fpr, mean_tpr, 'k--',label='Mean ROC (area = %0.2f)' % mean_auc, lw=2)\n",
        "    \n",
        "    plt.plot([0, 1], [0, 1], '--', color=(0.6, 0.6, 0.6), label='Random')\n",
        "    plt.xlim([-0.05, 1.05])\n",
        "    plt.ylim([-0.05, 1.05])\n",
        "    plt.xlabel('False Positive Rate')\n",
        "    plt.ylabel('True Positive Rate')\n",
        "    plt.title('Receiver operating characteristic for'+str(plot_name))\n",
        "    plt.legend(loc=\"lower right\")\n",
        "    plt.show()"
      ],
      "execution_count": 125,
      "outputs": []
    },
    {
      "cell_type": "code",
      "metadata": {
        "colab": {
          "base_uri": "https://localhost:8080/",
          "height": 295
        },
        "id": "wbD2kFLU2MOO",
        "outputId": "8566c779-e653-4df3-e771-e50cc32aa5b2"
      },
      "source": [
        "plot_roc(x, Y, RandomForestClassifier, 'Random_Forest')"
      ],
      "execution_count": 126,
      "outputs": [
        {
          "output_type": "display_data",
          "data": {
            "image/png": "[encoded data removed]",
            "text/plain": [
              "<Figure size 432x288 with 1 Axes>"
            ]
          },
          "metadata": {
            "tags": [],
            "needs_background": "light"
          }
        }
      ]
    },
    {
      "cell_type": "code",
      "metadata": {
        "id": "9qDuUKu42MQ3"
      },
      "source": [
        ""
      ],
      "execution_count": 126,
      "outputs": []
    },
    {
      "cell_type": "code",
      "metadata": {
        "id": "aJ4dYF5vV6WA"
      },
      "source": [
        "from sklearn.linear_model import LogisticRegression\n",
        "from sklearn.ensemble import RandomForestClassifier\n",
        "from sklearn.ensemble import GradientBoostingClassifier\n",
        "from sklearn.svm import SVC\n",
        "from sklearn.naive_bayes import BernoulliNB\n",
        "from xgboost import XGBClassifier\n",
        "from lightgbm import LGBMClassifier"
      ],
      "execution_count": 128,
      "outputs": []
    },
    {
      "cell_type": "code",
      "metadata": {
        "id": "fC2q_HuGn3EJ"
      },
      "source": [
        "x = df.transcript_lem\n",
        "Y = df.target\n",
        "\n",
        "tfidf = TfidfVectorizer(top_performing_param_tdidf)\n",
        "x = tfidf.fit_transform(x)\n",
        "\n",
        "x_train, x_test, Y_train, Y_test = train_test_split(x, Y, test_size = 0.2)"
      ],
      "execution_count": 129,
      "outputs": []
    },
    {
      "cell_type": "code",
      "metadata": {
        "id": "FCpeiTk1V6YI"
      },
      "source": [
        "## List of ML Algorithms/ Model Classifiers\n",
        "models = [LogisticRegression(),\n",
        "          RandomForestClassifier(),\n",
        "          XGBClassifier(),\n",
        "          GradientBoostingClassifier(),\n",
        "          LGBMClassifier(),\n",
        "          BernoulliNB() ]\n",
        "\n",
        "model_dense = [\n",
        "               SVC()   \n",
        "]"
      ],
      "execution_count": 130,
      "outputs": []
    },
    {
      "cell_type": "code",
      "metadata": {
        "id": "GCy1ToZaV6bh",
        "colab": {
          "base_uri": "https://localhost:8080/"
        },
        "outputId": "733e823c-3fe2-4f2f-b2ed-69ad21f11d96"
      },
      "source": [
        "for model in models:\n",
        "    model.fit(x_train,Y_train)\n",
        "    Y_pred = model.predict(x_test)\n",
        "    proba = model.predict_proba(x_test)\n",
        "    score = accuracy_score(Y_test,Y_pred)\n",
        "    bin_clf_rep = classification_report(Y_test,Y_pred, zero_division=1)\n",
        "    name = str(model)\n",
        "    print(name[0:name.find(\"(\")])\n",
        "    print(\"Accuracy :\", score)\n",
        "    print(bin_clf_rep)\n",
        "    print(confusion_matrix(Y_test,Y_pred))\n",
        "    print(\"------------------------------------------------------------\")"
      ],
      "execution_count": 131,
      "outputs": [
        {
          "output_type": "stream",
          "text": [
            "LogisticRegression\n",
            "Accuracy : 0.6336032388663968\n",
            "              precision    recall  f1-score   support\n",
            "\n",
            "           0       0.68      0.50      0.58       247\n",
            "           1       0.61      0.77      0.68       247\n",
            "\n",
            "    accuracy                           0.63       494\n",
            "   macro avg       0.64      0.63      0.63       494\n",
            "weighted avg       0.64      0.63      0.63       494\n",
            "\n",
            "[[123 124]\n",
            " [ 57 190]]\n",
            "------------------------------------------------------------\n",
            "RandomForestClassifier\n",
            "Accuracy : 0.5850202429149798\n",
            "              precision    recall  f1-score   support\n",
            "\n",
            "           0       0.63      0.40      0.49       247\n",
            "           1       0.56      0.77      0.65       247\n",
            "\n",
            "    accuracy                           0.59       494\n",
            "   macro avg       0.60      0.59      0.57       494\n",
            "weighted avg       0.60      0.59      0.57       494\n",
            "\n",
            "[[ 99 148]\n",
            " [ 57 190]]\n",
            "------------------------------------------------------------\n",
            "XGBClassifier\n",
            "Accuracy : 0.5931174089068826\n",
            "              precision    recall  f1-score   support\n",
            "\n",
            "           0       0.60      0.54      0.57       247\n",
            "           1       0.58      0.64      0.61       247\n",
            "\n",
            "    accuracy                           0.59       494\n",
            "   macro avg       0.59      0.59      0.59       494\n",
            "weighted avg       0.59      0.59      0.59       494\n",
            "\n",
            "[[134 113]\n",
            " [ 88 159]]\n",
            "------------------------------------------------------------\n",
            "GradientBoostingClassifier\n",
            "Accuracy : 0.5931174089068826\n",
            "              precision    recall  f1-score   support\n",
            "\n",
            "           0       0.61      0.52      0.56       247\n",
            "           1       0.58      0.67      0.62       247\n",
            "\n",
            "    accuracy                           0.59       494\n",
            "   macro avg       0.60      0.59      0.59       494\n",
            "weighted avg       0.60      0.59      0.59       494\n",
            "\n",
            "[[128 119]\n",
            " [ 82 165]]\n",
            "------------------------------------------------------------\n",
            "LGBMClassifier\n",
            "Accuracy : 0.6093117408906883\n",
            "              precision    recall  f1-score   support\n",
            "\n",
            "           0       0.62      0.56      0.59       247\n",
            "           1       0.60      0.66      0.63       247\n",
            "\n",
            "    accuracy                           0.61       494\n",
            "   macro avg       0.61      0.61      0.61       494\n",
            "weighted avg       0.61      0.61      0.61       494\n",
            "\n",
            "[[139 108]\n",
            " [ 85 162]]\n",
            "------------------------------------------------------------\n",
            "BernoulliNB\n",
            "Accuracy : 0.631578947368421\n",
            "              precision    recall  f1-score   support\n",
            "\n",
            "           0       0.68      0.49      0.57       247\n",
            "           1       0.60      0.77      0.68       247\n",
            "\n",
            "    accuracy                           0.63       494\n",
            "   macro avg       0.64      0.63      0.62       494\n",
            "weighted avg       0.64      0.63      0.62       494\n",
            "\n",
            "[[121 126]\n",
            " [ 56 191]]\n",
            "------------------------------------------------------------\n"
          ],
          "name": "stdout"
        }
      ]
    },
    {
      "cell_type": "code",
      "metadata": {
        "id": "RtM5nMKeV6eT"
      },
      "source": [
        "# for model in model_dense:\n",
        "#     model.fit(x_train.toarray(),Y_train)\n",
        "#     Y_pred = model.predict(x_test.toarray())\n",
        "#     # proba = model.predict_proba(x_test.toarray())\n",
        "#     score = accuracy_score(Y_test,Y_pred)\n",
        "#     bin_clf_rep = classification_report(Y_test,Y_pred, zero_division=1)\n",
        "#     name = str(model)\n",
        "#     print(name[0:name.find(\"(\")])\n",
        "#     print(\"Accuracy :\", score)\n",
        "#     print(bin_clf_rep)\n",
        "#     print(confusion_matrix(Y_test,Y_pred))"
      ],
      "execution_count": 132,
      "outputs": []
    },
    {
      "cell_type": "code",
      "metadata": {
        "id": "L1U9FNhxfDoB",
        "colab": {
          "base_uri": "https://localhost:8080/",
          "height": 279
        },
        "outputId": "8a5aa413-951d-4a06-fc61-3b51a3a5d036"
      },
      "source": [
        "fig, ax = plt.subplots()\n",
        "\n",
        "model_rf = RandomForestClassifier().fit(x_train, Y_train)\n",
        "model_lr = LogisticRegression().fit(x_train, Y_train)\n",
        "model_svm = SVC().fit(x_train, Y_train)\n",
        "model_gnb = GaussianNB().fit(x_train.todense(), Y_train)\n",
        "model_mnb = MultinomialNB().fit(x_train.todense(), Y_train)\n",
        "\n",
        "plot_roc_curve(model_rf, x_test, Y_test, ax=ax, name='Random_Forest')\n",
        "plot_roc_curve(model_lr, x_test, Y_test, ax=ax, name='Logistic_Regression')\n",
        "plot_roc_curve(model_svm, x_test, Y_test, ax=ax, name='SVM')\n",
        "plot_roc_curve(model_gnb, x_test.todense(), Y_test, ax=ax, name='GaussianNB')\n",
        "plot_roc_curve(model_mnb, x_test.todense(), Y_test, ax=ax, name='MultinomialNB')\n",
        "plt.show()"
      ],
      "execution_count": 135,
      "outputs": [
        {
          "output_type": "display_data",
          "data": {
            "image/png": "[encoded data removed]",
            "text/plain": [
              "<Figure size 432x288 with 1 Axes>"
            ]
          },
          "metadata": {
            "tags": [],
            "needs_background": "light"
          }
        }
      ]
    },
    {
      "cell_type": "code",
      "metadata": {
        "id": "yy4c_r6_Vond"
      },
      "source": [
        ""
      ],
      "execution_count": 135,
      "outputs": []
    }
  ]
}